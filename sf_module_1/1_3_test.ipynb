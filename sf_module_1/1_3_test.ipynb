{
 "cells": [
  {
   "cell_type": "code",
   "execution_count": 2,
   "metadata": {
    "_cell_guid": "b1076dfc-b9ad-4769-8c92-a6c4dae69d19",
    "_uuid": "8f2839f25d086af736a60e9eeb907d3b93b6e0e5"
   },
   "outputs": [
    {
     "name": "stdout",
     "output_type": "stream",
     "text": [
      "['[SF-DST] Movies IMBD v3.0.ipynb', '.ipynb_checkpoints', 'data.csv']\n"
     ]
    }
   ],
   "source": [
    "import numpy as np\n",
    "import pandas as pd\n",
    "import seaborn as sns\n",
    "import matplotlib.pyplot as plt\n",
    "import os\n",
    "from collections import Counter\n",
    "print(os.listdir('.'))"
   ]
  },
  {
   "cell_type": "code",
   "execution_count": 3,
   "metadata": {},
   "outputs": [
    {
     "data": {
      "text/html": [
       "<div>\n",
       "<style scoped>\n",
       "    .dataframe tbody tr th:only-of-type {\n",
       "        vertical-align: middle;\n",
       "    }\n",
       "\n",
       "    .dataframe tbody tr th {\n",
       "        vertical-align: top;\n",
       "    }\n",
       "\n",
       "    .dataframe thead th {\n",
       "        text-align: right;\n",
       "    }\n",
       "</style>\n",
       "<table border=\"1\" class=\"dataframe\">\n",
       "  <thead>\n",
       "    <tr style=\"text-align: right;\">\n",
       "      <th></th>\n",
       "      <th>imdb_id</th>\n",
       "      <th>popularity</th>\n",
       "      <th>budget</th>\n",
       "      <th>revenue</th>\n",
       "      <th>original_title</th>\n",
       "      <th>cast</th>\n",
       "      <th>director</th>\n",
       "      <th>tagline</th>\n",
       "      <th>overview</th>\n",
       "      <th>runtime</th>\n",
       "      <th>genres</th>\n",
       "      <th>production_companies</th>\n",
       "      <th>release_date</th>\n",
       "      <th>vote_count</th>\n",
       "      <th>vote_average</th>\n",
       "      <th>release_year</th>\n",
       "    </tr>\n",
       "  </thead>\n",
       "  <tbody>\n",
       "    <tr>\n",
       "      <th>0</th>\n",
       "      <td>tt0369610</td>\n",
       "      <td>32.985763</td>\n",
       "      <td>150000000</td>\n",
       "      <td>1513528810</td>\n",
       "      <td>Jurassic World</td>\n",
       "      <td>Chris Pratt|Bryce Dallas Howard|Irrfan Khan|Vi...</td>\n",
       "      <td>Colin Trevorrow</td>\n",
       "      <td>The park is open.</td>\n",
       "      <td>Twenty-two years after the events of Jurassic ...</td>\n",
       "      <td>124</td>\n",
       "      <td>Action|Adventure|Science Fiction|Thriller</td>\n",
       "      <td>Universal Studios|Amblin Entertainment|Legenda...</td>\n",
       "      <td>6/9/2015</td>\n",
       "      <td>5562</td>\n",
       "      <td>6.5</td>\n",
       "      <td>2015</td>\n",
       "    </tr>\n",
       "    <tr>\n",
       "      <th>1</th>\n",
       "      <td>tt1392190</td>\n",
       "      <td>28.419936</td>\n",
       "      <td>150000000</td>\n",
       "      <td>378436354</td>\n",
       "      <td>Mad Max: Fury Road</td>\n",
       "      <td>Tom Hardy|Charlize Theron|Hugh Keays-Byrne|Nic...</td>\n",
       "      <td>George Miller</td>\n",
       "      <td>What a Lovely Day.</td>\n",
       "      <td>An apocalyptic story set in the furthest reach...</td>\n",
       "      <td>120</td>\n",
       "      <td>Action|Adventure|Science Fiction|Thriller</td>\n",
       "      <td>Village Roadshow Pictures|Kennedy Miller Produ...</td>\n",
       "      <td>5/13/2015</td>\n",
       "      <td>6185</td>\n",
       "      <td>7.1</td>\n",
       "      <td>2015</td>\n",
       "    </tr>\n",
       "    <tr>\n",
       "      <th>2</th>\n",
       "      <td>tt2908446</td>\n",
       "      <td>13.112507</td>\n",
       "      <td>110000000</td>\n",
       "      <td>295238201</td>\n",
       "      <td>Insurgent</td>\n",
       "      <td>Shailene Woodley|Theo James|Kate Winslet|Ansel...</td>\n",
       "      <td>Robert Schwentke</td>\n",
       "      <td>One Choice Can Destroy You</td>\n",
       "      <td>Beatrice Prior must confront her inner demons ...</td>\n",
       "      <td>119</td>\n",
       "      <td>Adventure|Science Fiction|Thriller</td>\n",
       "      <td>Summit Entertainment|Mandeville Films|Red Wago...</td>\n",
       "      <td>3/18/2015</td>\n",
       "      <td>2480</td>\n",
       "      <td>6.3</td>\n",
       "      <td>2015</td>\n",
       "    </tr>\n",
       "    <tr>\n",
       "      <th>3</th>\n",
       "      <td>tt2488496</td>\n",
       "      <td>11.173104</td>\n",
       "      <td>200000000</td>\n",
       "      <td>2068178225</td>\n",
       "      <td>Star Wars: The Force Awakens</td>\n",
       "      <td>Harrison Ford|Mark Hamill|Carrie Fisher|Adam D...</td>\n",
       "      <td>J.J. Abrams</td>\n",
       "      <td>Every generation has a story.</td>\n",
       "      <td>Thirty years after defeating the Galactic Empi...</td>\n",
       "      <td>136</td>\n",
       "      <td>Action|Adventure|Science Fiction|Fantasy</td>\n",
       "      <td>Lucasfilm|Truenorth Productions|Bad Robot</td>\n",
       "      <td>12/15/2015</td>\n",
       "      <td>5292</td>\n",
       "      <td>7.5</td>\n",
       "      <td>2015</td>\n",
       "    </tr>\n",
       "    <tr>\n",
       "      <th>4</th>\n",
       "      <td>tt2820852</td>\n",
       "      <td>9.335014</td>\n",
       "      <td>190000000</td>\n",
       "      <td>1506249360</td>\n",
       "      <td>Furious 7</td>\n",
       "      <td>Vin Diesel|Paul Walker|Jason Statham|Michelle ...</td>\n",
       "      <td>James Wan</td>\n",
       "      <td>Vengeance Hits Home</td>\n",
       "      <td>Deckard Shaw seeks revenge against Dominic Tor...</td>\n",
       "      <td>137</td>\n",
       "      <td>Action|Crime|Thriller</td>\n",
       "      <td>Universal Pictures|Original Film|Media Rights ...</td>\n",
       "      <td>4/1/2015</td>\n",
       "      <td>2947</td>\n",
       "      <td>7.3</td>\n",
       "      <td>2015</td>\n",
       "    </tr>\n",
       "  </tbody>\n",
       "</table>\n",
       "</div>"
      ],
      "text/plain": [
       "     imdb_id  popularity     budget     revenue                original_title  \\\n",
       "0  tt0369610   32.985763  150000000  1513528810                Jurassic World   \n",
       "1  tt1392190   28.419936  150000000   378436354            Mad Max: Fury Road   \n",
       "2  tt2908446   13.112507  110000000   295238201                     Insurgent   \n",
       "3  tt2488496   11.173104  200000000  2068178225  Star Wars: The Force Awakens   \n",
       "4  tt2820852    9.335014  190000000  1506249360                     Furious 7   \n",
       "\n",
       "                                                cast          director  \\\n",
       "0  Chris Pratt|Bryce Dallas Howard|Irrfan Khan|Vi...   Colin Trevorrow   \n",
       "1  Tom Hardy|Charlize Theron|Hugh Keays-Byrne|Nic...     George Miller   \n",
       "2  Shailene Woodley|Theo James|Kate Winslet|Ansel...  Robert Schwentke   \n",
       "3  Harrison Ford|Mark Hamill|Carrie Fisher|Adam D...       J.J. Abrams   \n",
       "4  Vin Diesel|Paul Walker|Jason Statham|Michelle ...         James Wan   \n",
       "\n",
       "                         tagline  \\\n",
       "0              The park is open.   \n",
       "1             What a Lovely Day.   \n",
       "2     One Choice Can Destroy You   \n",
       "3  Every generation has a story.   \n",
       "4            Vengeance Hits Home   \n",
       "\n",
       "                                            overview  runtime  \\\n",
       "0  Twenty-two years after the events of Jurassic ...      124   \n",
       "1  An apocalyptic story set in the furthest reach...      120   \n",
       "2  Beatrice Prior must confront her inner demons ...      119   \n",
       "3  Thirty years after defeating the Galactic Empi...      136   \n",
       "4  Deckard Shaw seeks revenge against Dominic Tor...      137   \n",
       "\n",
       "                                      genres  \\\n",
       "0  Action|Adventure|Science Fiction|Thriller   \n",
       "1  Action|Adventure|Science Fiction|Thriller   \n",
       "2         Adventure|Science Fiction|Thriller   \n",
       "3   Action|Adventure|Science Fiction|Fantasy   \n",
       "4                      Action|Crime|Thriller   \n",
       "\n",
       "                                production_companies release_date  vote_count  \\\n",
       "0  Universal Studios|Amblin Entertainment|Legenda...     6/9/2015        5562   \n",
       "1  Village Roadshow Pictures|Kennedy Miller Produ...    5/13/2015        6185   \n",
       "2  Summit Entertainment|Mandeville Films|Red Wago...    3/18/2015        2480   \n",
       "3          Lucasfilm|Truenorth Productions|Bad Robot   12/15/2015        5292   \n",
       "4  Universal Pictures|Original Film|Media Rights ...     4/1/2015        2947   \n",
       "\n",
       "   vote_average  release_year  \n",
       "0           6.5          2015  \n",
       "1           7.1          2015  \n",
       "2           6.3          2015  \n",
       "3           7.5          2015  \n",
       "4           7.3          2015  "
      ]
     },
     "execution_count": 3,
     "metadata": {},
     "output_type": "execute_result"
    }
   ],
   "source": [
    "data = pd.read_csv('data.csv')\n",
    "data.head(5)"
   ]
  },
  {
   "cell_type": "code",
   "execution_count": 4,
   "metadata": {},
   "outputs": [
    {
     "data": {
      "text/plain": [
       "1890"
      ]
     },
     "execution_count": 4,
     "metadata": {},
     "output_type": "execute_result"
    }
   ],
   "source": [
    "len(data)"
   ]
  },
  {
   "cell_type": "markdown",
   "metadata": {},
   "source": [
    "# Предобработка датасета"
   ]
  },
  {
   "cell_type": "code",
   "execution_count": 5,
   "metadata": {},
   "outputs": [],
   "source": [
    "answer_ls = [] # создадим список с ответами. сюда будем добавлять ответы по мере прохождения теста\n",
    "# сюда можем вписать создание новых колонок в датасете"
   ]
  },
  {
   "cell_type": "markdown",
   "metadata": {},
   "source": [
    "# 1. У какого фильма из списка самый большой бюджет?\n",
    "Варианты ответов:\n",
    "1. The Dark Knight Rises (tt1345836)\n",
    "2. Spider-Man 3 (tt0413300)\n",
    "3. Avengers: Age of Ultron (tt2395427)\n",
    "4. The Warrior's Way\t(tt1032751)\n",
    "5. Pirates of the Caribbean: On Stranger Tides (tt1298650)"
   ]
  },
  {
   "cell_type": "code",
   "execution_count": 6,
   "metadata": {},
   "outputs": [
    {
     "data": {
      "text/html": [
       "<div>\n",
       "<style scoped>\n",
       "    .dataframe tbody tr th:only-of-type {\n",
       "        vertical-align: middle;\n",
       "    }\n",
       "\n",
       "    .dataframe tbody tr th {\n",
       "        vertical-align: top;\n",
       "    }\n",
       "\n",
       "    .dataframe thead th {\n",
       "        text-align: right;\n",
       "    }\n",
       "</style>\n",
       "<table border=\"1\" class=\"dataframe\">\n",
       "  <thead>\n",
       "    <tr style=\"text-align: right;\">\n",
       "      <th></th>\n",
       "      <th>imdb_id</th>\n",
       "      <th>popularity</th>\n",
       "      <th>budget</th>\n",
       "      <th>revenue</th>\n",
       "      <th>original_title</th>\n",
       "      <th>cast</th>\n",
       "      <th>director</th>\n",
       "      <th>tagline</th>\n",
       "      <th>overview</th>\n",
       "      <th>runtime</th>\n",
       "      <th>genres</th>\n",
       "      <th>production_companies</th>\n",
       "      <th>release_date</th>\n",
       "      <th>vote_count</th>\n",
       "      <th>vote_average</th>\n",
       "      <th>release_year</th>\n",
       "    </tr>\n",
       "  </thead>\n",
       "  <tbody>\n",
       "    <tr>\n",
       "      <th>491</th>\n",
       "      <td>tt1032751</td>\n",
       "      <td>0.25054</td>\n",
       "      <td>425000000</td>\n",
       "      <td>11087569</td>\n",
       "      <td>The Warrior's Way</td>\n",
       "      <td>Kate Bosworth|Jang Dong-gun|Geoffrey Rush|Dann...</td>\n",
       "      <td>Sngmoo Lee</td>\n",
       "      <td>Assassin. Hero. Legend.</td>\n",
       "      <td>An Asian assassin (Dong-gun Jang) is forced to...</td>\n",
       "      <td>100</td>\n",
       "      <td>Adventure|Fantasy|Action|Western|Thriller</td>\n",
       "      <td>Boram Entertainment Inc.</td>\n",
       "      <td>12/2/2010</td>\n",
       "      <td>74</td>\n",
       "      <td>6.4</td>\n",
       "      <td>2010</td>\n",
       "    </tr>\n",
       "  </tbody>\n",
       "</table>\n",
       "</div>"
      ],
      "text/plain": [
       "       imdb_id  popularity     budget   revenue     original_title  \\\n",
       "491  tt1032751     0.25054  425000000  11087569  The Warrior's Way   \n",
       "\n",
       "                                                  cast    director  \\\n",
       "491  Kate Bosworth|Jang Dong-gun|Geoffrey Rush|Dann...  Sngmoo Lee   \n",
       "\n",
       "                     tagline  \\\n",
       "491  Assassin. Hero. Legend.   \n",
       "\n",
       "                                              overview  runtime  \\\n",
       "491  An Asian assassin (Dong-gun Jang) is forced to...      100   \n",
       "\n",
       "                                        genres      production_companies  \\\n",
       "491  Adventure|Fantasy|Action|Western|Thriller  Boram Entertainment Inc.   \n",
       "\n",
       "    release_date  vote_count  vote_average  release_year  \n",
       "491    12/2/2010          74           6.4          2010  "
      ]
     },
     "execution_count": 6,
     "metadata": {},
     "output_type": "execute_result"
    }
   ],
   "source": [
    "data[data.budget == data.budget.max()]"
   ]
  },
  {
   "cell_type": "code",
   "execution_count": 7,
   "metadata": {},
   "outputs": [],
   "source": [
    "# тут вводим ваш ответ и добавлем в его список ответов (сейчас для примера стоит \"1\")\n",
    "answer_ls.append(4)"
   ]
  },
  {
   "cell_type": "markdown",
   "metadata": {},
   "source": [
    "# 2. Какой из фильмов самый длительный (в минутах)\n",
    "1. The Lord of the Rings: The Return of the King\t(tt0167260)\n",
    "2. Gods and Generals\t(tt0279111)\n",
    "3. King Kong\t(tt0360717)\n",
    "4. Pearl Harbor\t(tt0213149)\n",
    "5. Alexander\t(tt0346491)"
   ]
  },
  {
   "cell_type": "code",
   "execution_count": 8,
   "metadata": {},
   "outputs": [
    {
     "data": {
      "text/html": [
       "<div>\n",
       "<style scoped>\n",
       "    .dataframe tbody tr th:only-of-type {\n",
       "        vertical-align: middle;\n",
       "    }\n",
       "\n",
       "    .dataframe tbody tr th {\n",
       "        vertical-align: top;\n",
       "    }\n",
       "\n",
       "    .dataframe thead th {\n",
       "        text-align: right;\n",
       "    }\n",
       "</style>\n",
       "<table border=\"1\" class=\"dataframe\">\n",
       "  <thead>\n",
       "    <tr style=\"text-align: right;\">\n",
       "      <th></th>\n",
       "      <th>imdb_id</th>\n",
       "      <th>popularity</th>\n",
       "      <th>budget</th>\n",
       "      <th>revenue</th>\n",
       "      <th>original_title</th>\n",
       "      <th>cast</th>\n",
       "      <th>director</th>\n",
       "      <th>tagline</th>\n",
       "      <th>overview</th>\n",
       "      <th>runtime</th>\n",
       "      <th>genres</th>\n",
       "      <th>production_companies</th>\n",
       "      <th>release_date</th>\n",
       "      <th>vote_count</th>\n",
       "      <th>vote_average</th>\n",
       "      <th>release_year</th>\n",
       "    </tr>\n",
       "  </thead>\n",
       "  <tbody>\n",
       "    <tr>\n",
       "      <th>1158</th>\n",
       "      <td>tt0279111</td>\n",
       "      <td>0.469518</td>\n",
       "      <td>56000000</td>\n",
       "      <td>12923936</td>\n",
       "      <td>Gods and Generals</td>\n",
       "      <td>Stephen Lang|Jeff Daniels|Robert Duvall|Kevin ...</td>\n",
       "      <td>Ronald F. Maxwell</td>\n",
       "      <td>The nations heart was touched by...</td>\n",
       "      <td>The film centers mostly around the personal an...</td>\n",
       "      <td>214</td>\n",
       "      <td>Drama|History|War</td>\n",
       "      <td>Turner Pictures|Antietam Filmworks</td>\n",
       "      <td>2/21/2003</td>\n",
       "      <td>23</td>\n",
       "      <td>5.8</td>\n",
       "      <td>2003</td>\n",
       "    </tr>\n",
       "  </tbody>\n",
       "</table>\n",
       "</div>"
      ],
      "text/plain": [
       "        imdb_id  popularity    budget   revenue     original_title  \\\n",
       "1158  tt0279111    0.469518  56000000  12923936  Gods and Generals   \n",
       "\n",
       "                                                   cast           director  \\\n",
       "1158  Stephen Lang|Jeff Daniels|Robert Duvall|Kevin ...  Ronald F. Maxwell   \n",
       "\n",
       "                                  tagline  \\\n",
       "1158  The nations heart was touched by...   \n",
       "\n",
       "                                               overview  runtime  \\\n",
       "1158  The film centers mostly around the personal an...      214   \n",
       "\n",
       "                 genres                production_companies release_date  \\\n",
       "1158  Drama|History|War  Turner Pictures|Antietam Filmworks    2/21/2003   \n",
       "\n",
       "      vote_count  vote_average  release_year  \n",
       "1158          23           5.8          2003  "
      ]
     },
     "execution_count": 8,
     "metadata": {},
     "output_type": "execute_result"
    }
   ],
   "source": [
    "data[data.runtime == data.runtime.max()]"
   ]
  },
  {
   "cell_type": "code",
   "execution_count": 9,
   "metadata": {},
   "outputs": [],
   "source": [
    "answer_ls.append(2)"
   ]
  },
  {
   "cell_type": "markdown",
   "metadata": {},
   "source": [
    "# 3. Какой из фильмов самый короткий (в минутах)\n",
    "Варианты ответов:\n",
    "\n",
    "1. Home on the Range\ttt0299172\n",
    "2. The Jungle Book 2\ttt0283426\n",
    "3. Winnie the Pooh\ttt1449283\n",
    "4. Corpse Bride\ttt0121164\n",
    "5. Hoodwinked!\ttt0443536"
   ]
  },
  {
   "cell_type": "code",
   "execution_count": 11,
   "metadata": {},
   "outputs": [
    {
     "data": {
      "text/html": [
       "<div>\n",
       "<style scoped>\n",
       "    .dataframe tbody tr th:only-of-type {\n",
       "        vertical-align: middle;\n",
       "    }\n",
       "\n",
       "    .dataframe tbody tr th {\n",
       "        vertical-align: top;\n",
       "    }\n",
       "\n",
       "    .dataframe thead th {\n",
       "        text-align: right;\n",
       "    }\n",
       "</style>\n",
       "<table border=\"1\" class=\"dataframe\">\n",
       "  <thead>\n",
       "    <tr style=\"text-align: right;\">\n",
       "      <th></th>\n",
       "      <th>imdb_id</th>\n",
       "      <th>popularity</th>\n",
       "      <th>budget</th>\n",
       "      <th>revenue</th>\n",
       "      <th>original_title</th>\n",
       "      <th>cast</th>\n",
       "      <th>director</th>\n",
       "      <th>tagline</th>\n",
       "      <th>overview</th>\n",
       "      <th>runtime</th>\n",
       "      <th>genres</th>\n",
       "      <th>production_companies</th>\n",
       "      <th>release_date</th>\n",
       "      <th>vote_count</th>\n",
       "      <th>vote_average</th>\n",
       "      <th>release_year</th>\n",
       "    </tr>\n",
       "  </thead>\n",
       "  <tbody>\n",
       "    <tr>\n",
       "      <th>769</th>\n",
       "      <td>tt1449283</td>\n",
       "      <td>1.425344</td>\n",
       "      <td>30000000</td>\n",
       "      <td>14460000</td>\n",
       "      <td>Winnie the Pooh</td>\n",
       "      <td>Jim Cummings|Travis Oates|Jim Cummings|Bud Luc...</td>\n",
       "      <td>Stephen Anderson|Don Hall</td>\n",
       "      <td>Oh Pooh.</td>\n",
       "      <td>During an ordinary day in Hundred Acre Wood, W...</td>\n",
       "      <td>63</td>\n",
       "      <td>Animation|Family</td>\n",
       "      <td>Walt Disney Pictures|Walt Disney Animation Stu...</td>\n",
       "      <td>4/13/2011</td>\n",
       "      <td>174</td>\n",
       "      <td>6.8</td>\n",
       "      <td>2011</td>\n",
       "    </tr>\n",
       "  </tbody>\n",
       "</table>\n",
       "</div>"
      ],
      "text/plain": [
       "       imdb_id  popularity    budget   revenue   original_title  \\\n",
       "769  tt1449283    1.425344  30000000  14460000  Winnie the Pooh   \n",
       "\n",
       "                                                  cast  \\\n",
       "769  Jim Cummings|Travis Oates|Jim Cummings|Bud Luc...   \n",
       "\n",
       "                      director   tagline  \\\n",
       "769  Stephen Anderson|Don Hall  Oh Pooh.   \n",
       "\n",
       "                                              overview  runtime  \\\n",
       "769  During an ordinary day in Hundred Acre Wood, W...       63   \n",
       "\n",
       "               genres                               production_companies  \\\n",
       "769  Animation|Family  Walt Disney Pictures|Walt Disney Animation Stu...   \n",
       "\n",
       "    release_date  vote_count  vote_average  release_year  \n",
       "769    4/13/2011         174           6.8          2011  "
      ]
     },
     "execution_count": 11,
     "metadata": {},
     "output_type": "execute_result"
    }
   ],
   "source": [
    "data[data.runtime == data.runtime.min()]"
   ]
  },
  {
   "cell_type": "code",
   "execution_count": 12,
   "metadata": {},
   "outputs": [],
   "source": [
    "answer_ls.append(3)"
   ]
  },
  {
   "cell_type": "markdown",
   "metadata": {},
   "source": [
    "# 4. Средняя длительность фильма?\n",
    "\n",
    "Варианты ответов:\n",
    "1. 115\n",
    "2. 110\n",
    "3. 105\n",
    "4. 120\n",
    "5. 100\n"
   ]
  },
  {
   "cell_type": "code",
   "execution_count": 13,
   "metadata": {},
   "outputs": [
    {
     "data": {
      "text/plain": [
       "109.65343915343915"
      ]
     },
     "execution_count": 13,
     "metadata": {},
     "output_type": "execute_result"
    }
   ],
   "source": [
    "data.runtime.mean()"
   ]
  },
  {
   "cell_type": "code",
   "execution_count": 14,
   "metadata": {},
   "outputs": [],
   "source": [
    "answer_ls.append(2)"
   ]
  },
  {
   "cell_type": "markdown",
   "metadata": {},
   "source": [
    "# 5. Средняя длительность фильма по медиане?\n",
    "Варианты ответов:\n",
    "1. 106\n",
    "2. 112\n",
    "3. 101\n",
    "4. 120\n",
    "5. 115\n",
    "\n",
    "\n"
   ]
  },
  {
   "cell_type": "code",
   "execution_count": 15,
   "metadata": {},
   "outputs": [
    {
     "data": {
      "text/plain": [
       "106.5"
      ]
     },
     "execution_count": 15,
     "metadata": {},
     "output_type": "execute_result"
    }
   ],
   "source": [
    "data.runtime.median()"
   ]
  },
  {
   "cell_type": "code",
   "execution_count": 16,
   "metadata": {},
   "outputs": [],
   "source": [
    "answer_ls.append(1)"
   ]
  },
  {
   "cell_type": "markdown",
   "metadata": {},
   "source": [
    "# 6. Какой самый прибыльный фильм?\n",
    "Варианты ответов:\n",
    "1. The Avengers\ttt0848228\n",
    "2. Minions\ttt2293640\n",
    "3. Star Wars: The Force Awakens\ttt2488496\n",
    "4. Furious 7\ttt2820852\n",
    "5. Avatar\ttt0499549"
   ]
  },
  {
   "cell_type": "code",
   "execution_count": 19,
   "metadata": {},
   "outputs": [
    {
     "data": {
      "text/html": [
       "<div>\n",
       "<style scoped>\n",
       "    .dataframe tbody tr th:only-of-type {\n",
       "        vertical-align: middle;\n",
       "    }\n",
       "\n",
       "    .dataframe tbody tr th {\n",
       "        vertical-align: top;\n",
       "    }\n",
       "\n",
       "    .dataframe thead th {\n",
       "        text-align: right;\n",
       "    }\n",
       "</style>\n",
       "<table border=\"1\" class=\"dataframe\">\n",
       "  <thead>\n",
       "    <tr style=\"text-align: right;\">\n",
       "      <th></th>\n",
       "      <th>imdb_id</th>\n",
       "      <th>popularity</th>\n",
       "      <th>budget</th>\n",
       "      <th>revenue</th>\n",
       "      <th>original_title</th>\n",
       "      <th>cast</th>\n",
       "      <th>director</th>\n",
       "      <th>tagline</th>\n",
       "      <th>overview</th>\n",
       "      <th>runtime</th>\n",
       "      <th>genres</th>\n",
       "      <th>production_companies</th>\n",
       "      <th>release_date</th>\n",
       "      <th>vote_count</th>\n",
       "      <th>vote_average</th>\n",
       "      <th>release_year</th>\n",
       "      <th>profit</th>\n",
       "    </tr>\n",
       "  </thead>\n",
       "  <tbody>\n",
       "    <tr>\n",
       "      <th>239</th>\n",
       "      <td>tt0499549</td>\n",
       "      <td>9.432768</td>\n",
       "      <td>237000000</td>\n",
       "      <td>2781505847</td>\n",
       "      <td>Avatar</td>\n",
       "      <td>Sam Worthington|Zoe Saldana|Sigourney Weaver|S...</td>\n",
       "      <td>James Cameron</td>\n",
       "      <td>Enter the World of Pandora.</td>\n",
       "      <td>In the 22nd century, a paraplegic Marine is di...</td>\n",
       "      <td>162</td>\n",
       "      <td>Action|Adventure|Fantasy|Science Fiction</td>\n",
       "      <td>Ingenious Film Partners|Twentieth Century Fox ...</td>\n",
       "      <td>12/10/2009</td>\n",
       "      <td>8458</td>\n",
       "      <td>7.1</td>\n",
       "      <td>2009</td>\n",
       "      <td>2544505847</td>\n",
       "    </tr>\n",
       "  </tbody>\n",
       "</table>\n",
       "</div>"
      ],
      "text/plain": [
       "       imdb_id  popularity     budget     revenue original_title  \\\n",
       "239  tt0499549    9.432768  237000000  2781505847         Avatar   \n",
       "\n",
       "                                                  cast       director  \\\n",
       "239  Sam Worthington|Zoe Saldana|Sigourney Weaver|S...  James Cameron   \n",
       "\n",
       "                         tagline  \\\n",
       "239  Enter the World of Pandora.   \n",
       "\n",
       "                                              overview  runtime  \\\n",
       "239  In the 22nd century, a paraplegic Marine is di...      162   \n",
       "\n",
       "                                       genres  \\\n",
       "239  Action|Adventure|Fantasy|Science Fiction   \n",
       "\n",
       "                                  production_companies release_date  \\\n",
       "239  Ingenious Film Partners|Twentieth Century Fox ...   12/10/2009   \n",
       "\n",
       "     vote_count  vote_average  release_year      profit  \n",
       "239        8458           7.1          2009  2544505847  "
      ]
     },
     "execution_count": 19,
     "metadata": {},
     "output_type": "execute_result"
    }
   ],
   "source": [
    "data['profit'] = data.revenue - data.budget\n",
    "data[data.profit == data.profit.max()]"
   ]
  },
  {
   "cell_type": "code",
   "execution_count": 18,
   "metadata": {},
   "outputs": [],
   "source": [
    "answer_ls.append(5)"
   ]
  },
  {
   "cell_type": "markdown",
   "metadata": {},
   "source": [
    "# 7. Какой фильм самый убыточный?\n",
    "Варианты ответов:\n",
    "1. Supernova tt0134983\n",
    "2. The Warrior's Way tt1032751\n",
    "3. Flushed Away\ttt0424095\n",
    "4. The Adventures of Pluto Nash\ttt0180052\n",
    "5. The Lone Ranger\ttt1210819"
   ]
  },
  {
   "cell_type": "code",
   "execution_count": 20,
   "metadata": {},
   "outputs": [
    {
     "data": {
      "text/html": [
       "<div>\n",
       "<style scoped>\n",
       "    .dataframe tbody tr th:only-of-type {\n",
       "        vertical-align: middle;\n",
       "    }\n",
       "\n",
       "    .dataframe tbody tr th {\n",
       "        vertical-align: top;\n",
       "    }\n",
       "\n",
       "    .dataframe thead th {\n",
       "        text-align: right;\n",
       "    }\n",
       "</style>\n",
       "<table border=\"1\" class=\"dataframe\">\n",
       "  <thead>\n",
       "    <tr style=\"text-align: right;\">\n",
       "      <th></th>\n",
       "      <th>imdb_id</th>\n",
       "      <th>popularity</th>\n",
       "      <th>budget</th>\n",
       "      <th>revenue</th>\n",
       "      <th>original_title</th>\n",
       "      <th>cast</th>\n",
       "      <th>director</th>\n",
       "      <th>tagline</th>\n",
       "      <th>overview</th>\n",
       "      <th>runtime</th>\n",
       "      <th>genres</th>\n",
       "      <th>production_companies</th>\n",
       "      <th>release_date</th>\n",
       "      <th>vote_count</th>\n",
       "      <th>vote_average</th>\n",
       "      <th>release_year</th>\n",
       "      <th>profit</th>\n",
       "    </tr>\n",
       "  </thead>\n",
       "  <tbody>\n",
       "    <tr>\n",
       "      <th>491</th>\n",
       "      <td>tt1032751</td>\n",
       "      <td>0.25054</td>\n",
       "      <td>425000000</td>\n",
       "      <td>11087569</td>\n",
       "      <td>The Warrior's Way</td>\n",
       "      <td>Kate Bosworth|Jang Dong-gun|Geoffrey Rush|Dann...</td>\n",
       "      <td>Sngmoo Lee</td>\n",
       "      <td>Assassin. Hero. Legend.</td>\n",
       "      <td>An Asian assassin (Dong-gun Jang) is forced to...</td>\n",
       "      <td>100</td>\n",
       "      <td>Adventure|Fantasy|Action|Western|Thriller</td>\n",
       "      <td>Boram Entertainment Inc.</td>\n",
       "      <td>12/2/2010</td>\n",
       "      <td>74</td>\n",
       "      <td>6.4</td>\n",
       "      <td>2010</td>\n",
       "      <td>-413912431</td>\n",
       "    </tr>\n",
       "  </tbody>\n",
       "</table>\n",
       "</div>"
      ],
      "text/plain": [
       "       imdb_id  popularity     budget   revenue     original_title  \\\n",
       "491  tt1032751     0.25054  425000000  11087569  The Warrior's Way   \n",
       "\n",
       "                                                  cast    director  \\\n",
       "491  Kate Bosworth|Jang Dong-gun|Geoffrey Rush|Dann...  Sngmoo Lee   \n",
       "\n",
       "                     tagline  \\\n",
       "491  Assassin. Hero. Legend.   \n",
       "\n",
       "                                              overview  runtime  \\\n",
       "491  An Asian assassin (Dong-gun Jang) is forced to...      100   \n",
       "\n",
       "                                        genres      production_companies  \\\n",
       "491  Adventure|Fantasy|Action|Western|Thriller  Boram Entertainment Inc.   \n",
       "\n",
       "    release_date  vote_count  vote_average  release_year     profit  \n",
       "491    12/2/2010          74           6.4          2010 -413912431  "
      ]
     },
     "execution_count": 20,
     "metadata": {},
     "output_type": "execute_result"
    }
   ],
   "source": [
    "data[data.profit == data.profit.min()]"
   ]
  },
  {
   "cell_type": "code",
   "execution_count": 21,
   "metadata": {},
   "outputs": [],
   "source": [
    "answer_ls.append(2)"
   ]
  },
  {
   "cell_type": "markdown",
   "metadata": {},
   "source": [
    "# 8. Сколько всего фильмов в прибыли?\n",
    "Варианты ответов:\n",
    "1. 1478\n",
    "2. 1520\n",
    "3. 1241\n",
    "4. 1135\n",
    "5. 1398\n"
   ]
  },
  {
   "cell_type": "code",
   "execution_count": 22,
   "metadata": {},
   "outputs": [
    {
     "data": {
      "text/plain": [
       "imdb_id                 1478\n",
       "popularity              1478\n",
       "budget                  1478\n",
       "revenue                 1478\n",
       "original_title          1478\n",
       "cast                    1478\n",
       "director                1478\n",
       "tagline                 1478\n",
       "overview                1478\n",
       "runtime                 1478\n",
       "genres                  1478\n",
       "production_companies    1478\n",
       "release_date            1478\n",
       "vote_count              1478\n",
       "vote_average            1478\n",
       "release_year            1478\n",
       "profit                  1478\n",
       "dtype: int64"
      ]
     },
     "execution_count": 22,
     "metadata": {},
     "output_type": "execute_result"
    }
   ],
   "source": [
    "data[data.profit > 0].count()"
   ]
  },
  {
   "cell_type": "code",
   "execution_count": 23,
   "metadata": {},
   "outputs": [],
   "source": [
    "answer_ls.append(1)"
   ]
  },
  {
   "cell_type": "markdown",
   "metadata": {},
   "source": [
    "# 9. Самый прибыльный фильм в 2008 году?\n",
    "Варианты ответов:\n",
    "1. Madagascar: Escape 2 Africa\ttt0479952\n",
    "2. Iron Man\ttt0371746\n",
    "3. Kung Fu Panda\ttt0441773\n",
    "4. The Dark Knight\ttt0468569\n",
    "5. Mamma Mia!\ttt0795421"
   ]
  },
  {
   "cell_type": "markdown",
   "metadata": {},
   "source": [
    "# ЭтО УжАсНо!\n",
    "# НеПрАвИлЬнО ДеЛаТь РаЗнЫе ЗаДаНиЯ в ТеСтЕ и В NoTeBoOkE! \n",
    "\n",
    "## Ориентируюсь на задачи в тесте"
   ]
  },
  {
   "cell_type": "code",
   "execution_count": 24,
   "metadata": {},
   "outputs": [
    {
     "data": {
      "text/html": [
       "<div>\n",
       "<style scoped>\n",
       "    .dataframe tbody tr th:only-of-type {\n",
       "        vertical-align: middle;\n",
       "    }\n",
       "\n",
       "    .dataframe tbody tr th {\n",
       "        vertical-align: top;\n",
       "    }\n",
       "\n",
       "    .dataframe thead th {\n",
       "        text-align: right;\n",
       "    }\n",
       "</style>\n",
       "<table border=\"1\" class=\"dataframe\">\n",
       "  <thead>\n",
       "    <tr style=\"text-align: right;\">\n",
       "      <th></th>\n",
       "      <th>imdb_id</th>\n",
       "      <th>popularity</th>\n",
       "      <th>budget</th>\n",
       "      <th>revenue</th>\n",
       "      <th>original_title</th>\n",
       "      <th>cast</th>\n",
       "      <th>director</th>\n",
       "      <th>tagline</th>\n",
       "      <th>overview</th>\n",
       "      <th>runtime</th>\n",
       "      <th>genres</th>\n",
       "      <th>production_companies</th>\n",
       "      <th>release_date</th>\n",
       "      <th>vote_count</th>\n",
       "      <th>vote_average</th>\n",
       "      <th>release_year</th>\n",
       "      <th>profit</th>\n",
       "    </tr>\n",
       "  </thead>\n",
       "  <tbody>\n",
       "    <tr>\n",
       "      <th>600</th>\n",
       "      <td>tt0468569</td>\n",
       "      <td>8.466668</td>\n",
       "      <td>185000000</td>\n",
       "      <td>1001921825</td>\n",
       "      <td>The Dark Knight</td>\n",
       "      <td>Christian Bale|Michael Caine|Heath Ledger|Aaro...</td>\n",
       "      <td>Christopher Nolan</td>\n",
       "      <td>Why So Serious?</td>\n",
       "      <td>Batman raises the stakes in his war on crime. ...</td>\n",
       "      <td>152</td>\n",
       "      <td>Drama|Action|Crime|Thriller</td>\n",
       "      <td>DC Comics|Legendary Pictures|Warner Bros.|Syncopy</td>\n",
       "      <td>7/16/2008</td>\n",
       "      <td>8432</td>\n",
       "      <td>8.1</td>\n",
       "      <td>2008</td>\n",
       "      <td>816921825</td>\n",
       "    </tr>\n",
       "  </tbody>\n",
       "</table>\n",
       "</div>"
      ],
      "text/plain": [
       "       imdb_id  popularity     budget     revenue   original_title  \\\n",
       "600  tt0468569    8.466668  185000000  1001921825  The Dark Knight   \n",
       "\n",
       "                                                  cast           director  \\\n",
       "600  Christian Bale|Michael Caine|Heath Ledger|Aaro...  Christopher Nolan   \n",
       "\n",
       "             tagline                                           overview  \\\n",
       "600  Why So Serious?  Batman raises the stakes in his war on crime. ...   \n",
       "\n",
       "     runtime                       genres  \\\n",
       "600      152  Drama|Action|Crime|Thriller   \n",
       "\n",
       "                                  production_companies release_date  \\\n",
       "600  DC Comics|Legendary Pictures|Warner Bros.|Syncopy    7/16/2008   \n",
       "\n",
       "     vote_count  vote_average  release_year     profit  \n",
       "600        8432           8.1          2008  816921825  "
      ]
     },
     "execution_count": 24,
     "metadata": {},
     "output_type": "execute_result"
    }
   ],
   "source": [
    "data_2008 = data.query('release_year==2008')\n",
    "data_2008[data_2008.revenue == data_2008.revenue.max()]"
   ]
  },
  {
   "cell_type": "code",
   "execution_count": 25,
   "metadata": {},
   "outputs": [],
   "source": [
    "answer_ls.append(4)"
   ]
  },
  {
   "cell_type": "markdown",
   "metadata": {},
   "source": [
    "# 10. Самый убыточный фильм за период с 2012 по 2014 (включительно)?\n",
    "Варианты ответов:\n",
    "1. Winter's Tale\ttt1837709\n",
    "2. Stolen\ttt1656186\n",
    "3. Broken City\ttt1235522\n",
    "4. Upside Down\ttt1374992\n",
    "5. The Lone Ranger\ttt1210819\n"
   ]
  },
  {
   "cell_type": "code",
   "execution_count": 26,
   "metadata": {},
   "outputs": [
    {
     "data": {
      "text/html": [
       "<div>\n",
       "<style scoped>\n",
       "    .dataframe tbody tr th:only-of-type {\n",
       "        vertical-align: middle;\n",
       "    }\n",
       "\n",
       "    .dataframe tbody tr th {\n",
       "        vertical-align: top;\n",
       "    }\n",
       "\n",
       "    .dataframe thead th {\n",
       "        text-align: right;\n",
       "    }\n",
       "</style>\n",
       "<table border=\"1\" class=\"dataframe\">\n",
       "  <thead>\n",
       "    <tr style=\"text-align: right;\">\n",
       "      <th></th>\n",
       "      <th>imdb_id</th>\n",
       "      <th>popularity</th>\n",
       "      <th>budget</th>\n",
       "      <th>revenue</th>\n",
       "      <th>original_title</th>\n",
       "      <th>cast</th>\n",
       "      <th>director</th>\n",
       "      <th>tagline</th>\n",
       "      <th>overview</th>\n",
       "      <th>runtime</th>\n",
       "      <th>genres</th>\n",
       "      <th>production_companies</th>\n",
       "      <th>release_date</th>\n",
       "      <th>vote_count</th>\n",
       "      <th>vote_average</th>\n",
       "      <th>release_year</th>\n",
       "      <th>profit</th>\n",
       "    </tr>\n",
       "  </thead>\n",
       "  <tbody>\n",
       "    <tr>\n",
       "      <th>1246</th>\n",
       "      <td>tt1210819</td>\n",
       "      <td>1.21451</td>\n",
       "      <td>255000000</td>\n",
       "      <td>89289910</td>\n",
       "      <td>The Lone Ranger</td>\n",
       "      <td>Johnny Depp|Armie Hammer|William Fichtner|Hele...</td>\n",
       "      <td>Gore Verbinski</td>\n",
       "      <td>Never Take Off the Mask</td>\n",
       "      <td>The Texas Rangers chase down a gang of outlaws...</td>\n",
       "      <td>149</td>\n",
       "      <td>Action|Adventure|Western</td>\n",
       "      <td>Walt Disney Pictures|Jerry Bruckheimer Films|I...</td>\n",
       "      <td>7/3/2013</td>\n",
       "      <td>1607</td>\n",
       "      <td>6.0</td>\n",
       "      <td>2013</td>\n",
       "      <td>-165710090</td>\n",
       "    </tr>\n",
       "  </tbody>\n",
       "</table>\n",
       "</div>"
      ],
      "text/plain": [
       "        imdb_id  popularity     budget   revenue   original_title  \\\n",
       "1246  tt1210819     1.21451  255000000  89289910  The Lone Ranger   \n",
       "\n",
       "                                                   cast        director  \\\n",
       "1246  Johnny Depp|Armie Hammer|William Fichtner|Hele...  Gore Verbinski   \n",
       "\n",
       "                      tagline  \\\n",
       "1246  Never Take Off the Mask   \n",
       "\n",
       "                                               overview  runtime  \\\n",
       "1246  The Texas Rangers chase down a gang of outlaws...      149   \n",
       "\n",
       "                        genres  \\\n",
       "1246  Action|Adventure|Western   \n",
       "\n",
       "                                   production_companies release_date  \\\n",
       "1246  Walt Disney Pictures|Jerry Bruckheimer Films|I...     7/3/2013   \n",
       "\n",
       "      vote_count  vote_average  release_year     profit  \n",
       "1246        1607           6.0          2013 -165710090  "
      ]
     },
     "execution_count": 26,
     "metadata": {},
     "output_type": "execute_result"
    }
   ],
   "source": [
    "data.query('release_year>=2012 & release_year<=2014').query('profit == profit.min()')"
   ]
  },
  {
   "cell_type": "code",
   "execution_count": 27,
   "metadata": {},
   "outputs": [],
   "source": [
    "answer_ls.append(5)"
   ]
  },
  {
   "cell_type": "markdown",
   "metadata": {},
   "source": [
    "# 11. Какого жанра фильмов больше всего?\n",
    "Варианты ответов:\n",
    "1. Action\n",
    "2. Adventure\n",
    "3. Drama\n",
    "4. Comedy\n",
    "5. Thriller"
   ]
  },
  {
   "cell_type": "code",
   "execution_count": 30,
   "metadata": {},
   "outputs": [
    {
     "data": {
      "text/plain": [
       "[('Drama', 782),\n",
       " ('Comedy', 683),\n",
       " ('Thriller', 597),\n",
       " ('Action', 583),\n",
       " ('Adventure', 416),\n",
       " ('Crime', 315),\n",
       " ('Romance', 308),\n",
       " ('Family', 260),\n",
       " ('Science Fiction', 248),\n",
       " ('Fantasy', 223),\n",
       " ('Horror', 176),\n",
       " ('Mystery', 168),\n",
       " ('Animation', 139),\n",
       " ('Music', 64),\n",
       " ('History', 62),\n",
       " ('War', 58),\n",
       " ('Western', 20),\n",
       " ('Documentary', 8),\n",
       " ('Foreign', 2)]"
      ]
     },
     "execution_count": 30,
     "metadata": {},
     "output_type": "execute_result"
    }
   ],
   "source": [
    "from collections import Counter\n",
    "\n",
    "c = Counter()\n",
    "\n",
    "for i in data.genres:\n",
    "    for g in i.split('|'):\n",
    "        c[g] += 1\n",
    "        \n",
    "c.most_common()"
   ]
  },
  {
   "cell_type": "code",
   "execution_count": 31,
   "metadata": {},
   "outputs": [],
   "source": [
    "answer_ls[10] = 3"
   ]
  },
  {
   "cell_type": "markdown",
   "metadata": {},
   "source": [
    "# 12. Какого жанра среди прибыльных фильмов больше всего?\n",
    "Варианты ответов:\n",
    "1. Drama\n",
    "2. Comedy\n",
    "3. Action\n",
    "4. Thriller\n",
    "5. Adventure"
   ]
  },
  {
   "cell_type": "code",
   "execution_count": 32,
   "metadata": {},
   "outputs": [
    {
     "data": {
      "text/plain": [
       "[('Drama', 560),\n",
       " ('Comedy', 551),\n",
       " ('Thriller', 446),\n",
       " ('Action', 444),\n",
       " ('Adventure', 337),\n",
       " ('Romance', 242),\n",
       " ('Crime', 231),\n",
       " ('Family', 226),\n",
       " ('Science Fiction', 195),\n",
       " ('Fantasy', 188),\n",
       " ('Horror', 150),\n",
       " ('Animation', 120),\n",
       " ('Mystery', 119),\n",
       " ('Music', 47),\n",
       " ('History', 46),\n",
       " ('War', 41),\n",
       " ('Western', 12),\n",
       " ('Documentary', 7)]"
      ]
     },
     "execution_count": 32,
     "metadata": {},
     "output_type": "execute_result"
    }
   ],
   "source": [
    "data_mt_0 = data[data.profit > 0]\n",
    "c = Counter()\n",
    "\n",
    "for i in data_mt_0.genres:\n",
    "    for g in i.split('|'):\n",
    "        c[g] += 1\n",
    "        \n",
    "c.most_common()"
   ]
  },
  {
   "cell_type": "code",
   "execution_count": 33,
   "metadata": {},
   "outputs": [],
   "source": [
    "answer_ls.append(1)"
   ]
  },
  {
   "cell_type": "markdown",
   "metadata": {},
   "source": [
    "# 13. Кто из режиссеров снял больше всего фильмов?\n",
    "Варианты ответов:\n",
    "1. Steven Spielberg\n",
    "2. Ridley Scott \n",
    "3. Steven Soderbergh\n",
    "4. Christopher Nolan\n",
    "5. Clint Eastwood"
   ]
  },
  {
   "cell_type": "code",
   "execution_count": null,
   "metadata": {},
   "outputs": [],
   "source": [
    "c = Counter()\n",
    "for n in data.director:\n",
    "    for d in n.split('|'):\n",
    "        c[d] += 1\n",
    "        \n",
    "c.most_common()"
   ]
  },
  {
   "cell_type": "code",
   "execution_count": 34,
   "metadata": {},
   "outputs": [],
   "source": [
    "answer_ls.append(3)"
   ]
  },
  {
   "cell_type": "markdown",
   "metadata": {},
   "source": [
    "# 14. Кто из режиссеров снял больше всего Прибыльных фильмов?\n",
    "Варианты ответов:\n",
    "1. Steven Soderbergh\n",
    "2. Clint Eastwood\n",
    "3. Steven Spielberg\n",
    "4. Ridley Scott\n",
    "5. Christopher Nolan"
   ]
  },
  {
   "cell_type": "code",
   "execution_count": 35,
   "metadata": {},
   "outputs": [
    {
     "data": {
      "text/plain": [
       "[('Ridley Scott', 12),\n",
       " ('Steven Spielberg', 10),\n",
       " ('Clint Eastwood', 10),\n",
       " ('Steven Soderbergh', 10),\n",
       " ('Shawn Levy', 9),\n",
       " ('Tim Burton', 9),\n",
       " ('Antoine Fuqua', 8),\n",
       " ('Christopher Nolan', 8),\n",
       " ('Peter Jackson', 8),\n",
       " ('Michael Bay', 8),\n",
       " ('Brett Ratner', 8),\n",
       " ('Peter Farrelly', 8),\n",
       " ('Robert Rodriguez', 8),\n",
       " ('M. Night Shyamalan', 7),\n",
       " ('Bobby Farrelly', 7),\n",
       " ('Todd Phillips', 7),\n",
       " ('Adam Shankman', 7),\n",
       " ('Quentin Tarantino', 6),\n",
       " ('Francis Lawrence', 6),\n",
       " ('Adam McKay', 6),\n",
       " ('Robert Zemeckis', 6),\n",
       " ('Andy Fickman', 6),\n",
       " ('David Fincher', 6),\n",
       " ('Tim Story', 6),\n",
       " ('Zack Snyder', 6),\n",
       " ('Ron Howard', 6),\n",
       " ('Sam Raimi', 6),\n",
       " ('Joel Coen', 6),\n",
       " ('Louis Leterrier', 6),\n",
       " ('Dennis Dugan', 6),\n",
       " ('Paul W.S. Anderson', 6),\n",
       " ('Gore Verbinski', 6),\n",
       " ('Peter Segal', 6),\n",
       " ('Raja Gosnell', 6),\n",
       " ('J.J. Abrams', 5),\n",
       " ('Sam Mendes', 5),\n",
       " ('Jaume Collet-Serra', 5),\n",
       " ('F. Gary Gray', 5),\n",
       " ('Guy Ritchie', 5),\n",
       " ('Nancy Meyers', 5),\n",
       " ('Guillermo del Toro', 5),\n",
       " ('Bryan Singer', 5),\n",
       " ('Doug Liman', 5),\n",
       " ('Jon Favreau', 5),\n",
       " ('Carlos Saldanha', 5),\n",
       " ('Lasse HallstrÃ¶m', 5),\n",
       " ('Roland Emmerich', 5),\n",
       " ('Robert Luketic', 5),\n",
       " ('Steve Carr', 5),\n",
       " ('Tony Scott', 5),\n",
       " ('Martin Scorsese', 5),\n",
       " ('Danny Boyle', 5),\n",
       " ('Jon Turteltaub', 5),\n",
       " ('James Mangold', 5),\n",
       " ('Oliver Stone', 5),\n",
       " ('John Singleton', 5),\n",
       " ('Marc Forster', 5),\n",
       " ('Peter Berg', 5),\n",
       " ('Alejandro GonzÃ¡lez IÃ±Ã¡rritu', 4),\n",
       " ('Lana Wachowski', 4),\n",
       " ('Lilly Wachowski', 4),\n",
       " ('Chris Columbus', 4),\n",
       " ('Olivier Megaton', 4),\n",
       " ('Peyton Reed', 4),\n",
       " ('Brad Bird', 4),\n",
       " ('Matthew Vaughn', 4),\n",
       " ('Rob Letterman', 4),\n",
       " ('Tarsem Singh', 4),\n",
       " ('Judd Apatow', 4),\n",
       " ('John Erick Dowdle', 4),\n",
       " ('Boaz Yakin', 4),\n",
       " ('Anne Fletcher', 4),\n",
       " ('Ken Kwapis', 4),\n",
       " ('Wes Anderson', 4),\n",
       " ('Phil Lord', 4),\n",
       " ('Christopher Miller', 4),\n",
       " ('Luke Greenfield', 4),\n",
       " ('Eric Darnell', 4),\n",
       " ('Rob Marshall', 4),\n",
       " ('David Dobkin', 4),\n",
       " ('Nicholas Stoller', 4),\n",
       " ('Nick Cassavetes', 4),\n",
       " ('Rob Minkoff', 4),\n",
       " ('George Clooney', 4),\n",
       " ('David Yates', 4),\n",
       " ('David R. Ellis', 4),\n",
       " ('Ethan Coen', 4),\n",
       " ('David Twohy', 4),\n",
       " ('Jason Reitman', 4),\n",
       " ('Justin Lin', 4),\n",
       " ('Donald Petrie', 4),\n",
       " ('Tom McGrath', 4),\n",
       " ('Edward Zwick', 4),\n",
       " ('Andy Tennant', 4),\n",
       " ('Garry Marshall', 4),\n",
       " ('Jason Friedberg', 4),\n",
       " ('Aaron Seltzer', 4),\n",
       " ('Kevin Smith', 4),\n",
       " ('Jay Roach', 4),\n",
       " ('Andrew Adamson', 4),\n",
       " ('Simon West', 4),\n",
       " ('Keenen Ivory Wayans', 4),\n",
       " ('John Moore', 4),\n",
       " ('Rob Cohen', 4),\n",
       " ('D.J. Caruso', 4),\n",
       " ('Mark Waters', 4),\n",
       " ('Malcolm D. Lee', 4),\n",
       " ('Martin Campbell', 4),\n",
       " ('Mikael HÃ¥fstrÃ¶m', 4),\n",
       " ('Alexander Payne', 4),\n",
       " ('Len Wiseman', 4),\n",
       " ('Paul Greengrass', 4),\n",
       " ('George Miller', 3),\n",
       " ('Robert Schwentke', 3),\n",
       " ('James Wan', 3),\n",
       " ('Pierre Coffin', 3),\n",
       " ('Pete Docter', 3),\n",
       " ('Brad Peyton', 3),\n",
       " ('Neill Blomkamp', 3),\n",
       " ('Baltasar KormÃ¡kur', 3),\n",
       " ('Tom Hooper', 3),\n",
       " ('Paul Feig', 3),\n",
       " ('Gavin Hood', 3),\n",
       " ('Brian Helgeland', 3),\n",
       " ('Steve Martino', 3),\n",
       " ('Jonathan Levine', 3),\n",
       " ('David Ayer', 3),\n",
       " ('Neil Burger', 3),\n",
       " ('Jonathan Liebesman', 3),\n",
       " ('Matt Reeves', 3),\n",
       " ('Marc Webb', 3),\n",
       " ('Dean DeBlois', 3),\n",
       " ('Darren Aronofsky', 3),\n",
       " ('Frank Coraci', 3),\n",
       " ('Will Gluck', 3),\n",
       " ('Steve Pink', 3),\n",
       " ('Thomas Carter', 3),\n",
       " ('Randall Wallace', 3),\n",
       " ('McG', 3),\n",
       " ('John Lee Hancock', 3),\n",
       " ('Ruben Fleischer', 3),\n",
       " ('Chris Weitz', 3),\n",
       " ('Stephen Sommers', 3),\n",
       " ('Mark Neveldine', 3),\n",
       " ('Brian Taylor', 3),\n",
       " ('Conrad Vernon', 3),\n",
       " ('Michael Mann', 3),\n",
       " ('Kevin Macdonald', 3),\n",
       " ('James McTeigue', 3),\n",
       " ('NimrÃ³d Antal', 3),\n",
       " ('Tom Tykwer', 3),\n",
       " ('Rob Zombie', 3),\n",
       " ('Peter Chelsom', 3),\n",
       " ('Greg Mottola', 3),\n",
       " ('Jonathan Mostow', 3),\n",
       " ('Thor Freudenthal', 3),\n",
       " ('Marc Lawrence', 3),\n",
       " ('Chris Renaud', 3),\n",
       " ('Sylvester Stallone', 3),\n",
       " ('Chris Sanders', 3),\n",
       " ('Lee Unkrich', 3),\n",
       " ('Paul Weitz', 3),\n",
       " ('Mike Mitchell', 3),\n",
       " ('Joe Carnahan', 3),\n",
       " ('Ben Affleck', 3),\n",
       " ('Jon M. Chu', 3),\n",
       " ('Harald Zwart', 3),\n",
       " ('Roman Polanski', 3),\n",
       " ('Paul Haggis', 3),\n",
       " ('Alexandre Aja', 3),\n",
       " ('Tyler Perry', 3),\n",
       " ('Ben Stiller', 3),\n",
       " ('Dominic Sena', 3),\n",
       " ('Gary Fleder', 3),\n",
       " ('Brian Robbins', 3),\n",
       " ('Andrzej Bartkowiak', 3),\n",
       " ('Jesse Dylan', 3),\n",
       " ('Tim Hill', 3),\n",
       " ('Joe Johnston', 3),\n",
       " ('Andrew Stanton', 3),\n",
       " ('David Frankel', 3),\n",
       " ('Seth Gordon', 3),\n",
       " ('Woody Allen', 3),\n",
       " ('Bill Condon', 3),\n",
       " ('Wes Craven', 3),\n",
       " ('Stephen Daldry', 3),\n",
       " ('Joe Wright', 3),\n",
       " ('Kelly Asbury', 3),\n",
       " ('David Cronenberg', 3),\n",
       " ('Chris Wedge', 3),\n",
       " ('Barry Sonnenfeld', 3),\n",
       " ('Steven Brill', 3),\n",
       " ('Joel Schumacher', 3),\n",
       " ('Jeff Tremaine', 3),\n",
       " ('Ang Lee', 3),\n",
       " ('Stephen Frears', 3),\n",
       " ('Wolfgang Petersen', 3),\n",
       " ('Alan Taylor', 2),\n",
       " ('Kyle Balda', 2),\n",
       " ('Joss Whedon', 2),\n",
       " ('Kenneth Branagh', 2),\n",
       " ('Christopher McQuarrie', 2),\n",
       " ('Seth MacFarlane', 2),\n",
       " ('Wes Ball', 2),\n",
       " ('Elizabeth Banks', 2),\n",
       " ('Breck Eisner', 2),\n",
       " ('Tim Johnson', 2),\n",
       " ('Todd Haynes', 2),\n",
       " ('John Wells', 2),\n",
       " ('Denis Villeneuve', 2),\n",
       " ('Josh Trank', 2),\n",
       " ('Glenn Ficarra', 2),\n",
       " ('John Requa', 2),\n",
       " ('George Tillman, Jr.', 2),\n",
       " ('Genndy Tartakovsky', 2),\n",
       " ('Jessie Nelson', 2),\n",
       " ('Gil Kenan', 2),\n",
       " ('Sean Anders', 2),\n",
       " ('Mark Osborne', 2),\n",
       " ('Scott Cooper', 2),\n",
       " ('Simon Curtis', 2),\n",
       " ('Jason Moore', 2),\n",
       " ('Camille Delamarre', 2),\n",
       " ('Jonathan Demme', 2),\n",
       " ('Mike Binder', 2),\n",
       " ('James Gunn', 2),\n",
       " ('Joe Russo', 2),\n",
       " ('Anthony Russo', 2),\n",
       " ('Chris Williams', 2),\n",
       " ('Luc Besson', 2),\n",
       " ('Jake Kasdan', 2),\n",
       " ('Simon J. Smith', 2),\n",
       " ('Noam Murro', 2),\n",
       " ('Phillip Noyce', 2),\n",
       " ('Scott Waugh', 2),\n",
       " ('Anthony Stacchi', 2),\n",
       " ('Steven Quale', 2),\n",
       " ('Shana Feste', 2),\n",
       " ('Miguel Arteta', 2),\n",
       " ('Craig Gillespie', 2),\n",
       " ('Charles Martin Smith', 2),\n",
       " ('James Bobin', 2),\n",
       " ('Rupert Wyatt', 2),\n",
       " ('James Cameron', 2),\n",
       " ('Burr Steers', 2),\n",
       " ('Alex Proyas', 2),\n",
       " ('Duncan Jones', 2),\n",
       " ('P.J. Hogan', 2),\n",
       " ('Jim Sheridan', 2),\n",
       " ('Nora Ephron', 2),\n",
       " ('Betty Thomas', 2),\n",
       " ('Gary Winick', 2),\n",
       " ('Lee Daniels', 2),\n",
       " ('David S. Goyer', 2),\n",
       " ('John Hamburg', 2),\n",
       " ('Paul McGuigan', 2),\n",
       " ('Kevin Greutert', 2),\n",
       " ('Harold Ramis', 2),\n",
       " ('Patrick Lussier', 2),\n",
       " ('Walt Becker', 2),\n",
       " ('Lone Scherfig', 2),\n",
       " ('Marcus Nispel', 2),\n",
       " ('Joseph Kosinski', 2),\n",
       " ('Byron Howard', 2),\n",
       " ('Michael Apted', 2),\n",
       " ('Mike Newell', 2),\n",
       " ('Albert Hughes', 2),\n",
       " ('Allen Hughes', 2),\n",
       " ('David Slade', 2),\n",
       " ('Scott Stewart', 2),\n",
       " ('Michael Patrick King', 2),\n",
       " ('John Luessenhop', 2),\n",
       " ('Roger Michell', 2),\n",
       " ('Michael Lembeck', 2),\n",
       " ('John Madden', 2),\n",
       " ('Brian Levant', 2),\n",
       " ('Neil LaBute', 2),\n",
       " ('Tom Dey', 2),\n",
       " ('Eric Brevig', 2),\n",
       " ('Roger Kumble', 2),\n",
       " ('David Silverman', 2),\n",
       " ('Vicky Jenson', 2),\n",
       " ('Baz Luhrmann', 2),\n",
       " ('John A. Davis', 2),\n",
       " ('Cameron Crowe', 2),\n",
       " ('Victor Salva', 2),\n",
       " ('Lee Tamahori', 2),\n",
       " ('Iain Softley', 2),\n",
       " ('Ivan Reitman', 2),\n",
       " ('Frank Oz', 2),\n",
       " ('John Stockwell', 2),\n",
       " ('Catherine Hardwicke', 2),\n",
       " ('Phyllida Lloyd', 2),\n",
       " ('Timur Bekmambetov', 2),\n",
       " ('Kathryn Bigelow', 2),\n",
       " ('Scott Derrickson', 2),\n",
       " ('Gabriele Muccino', 2),\n",
       " ('David Gordon Green', 2),\n",
       " ('Mathieu Kassovitz', 2),\n",
       " ('Martin McDonagh', 2),\n",
       " ('Jon Hurwitz', 2),\n",
       " ('Hayden Schlossberg', 2),\n",
       " ('Jimmy Hayward', 2),\n",
       " ('Gus Van Sant', 2),\n",
       " ('Gina Prince-Bythewood', 2),\n",
       " ('Kirk De Micco', 2),\n",
       " ('Andrew Niccol', 2),\n",
       " ('John Lasseter', 2),\n",
       " ('Brad Furman', 2),\n",
       " ('Bennett Miller', 2),\n",
       " ('Chris Miller', 2),\n",
       " ('Michel Gondry', 2),\n",
       " ('David Bowers', 2),\n",
       " ('Craig Brewer', 2),\n",
       " ('Henry Joost', 2),\n",
       " ('Ariel Schulman', 2),\n",
       " ('John Whitesell', 2),\n",
       " ('Salim Akil', 2),\n",
       " ('George Lucas', 2),\n",
       " ('Wayne Wang', 2),\n",
       " ('Spike Jonze', 2),\n",
       " ('Carl Franklin', 2),\n",
       " ('Denzel Washington', 2),\n",
       " ('Tony Gilroy', 2),\n",
       " ('David O. Russell', 2),\n",
       " ('Gary Ross', 2),\n",
       " ('Kirk Jones', 2),\n",
       " ('Larry Charles', 2),\n",
       " ('Peter Lord', 2),\n",
       " ('Mark Steven Johnson', 2),\n",
       " ('David Zucker', 2),\n",
       " ('Bille Woodruff', 2),\n",
       " ('Richard Linklater', 2),\n",
       " ('Clark Johnson', 2),\n",
       " ('John Woo', 2),\n",
       " ('Nigel Cole', 2),\n",
       " ('Chris Buck', 2),\n",
       " ('Alfonso CuarÃ³n', 2),\n",
       " ('Brad Anderson', 2),\n",
       " ('Taylor Hackford', 2),\n",
       " ('Sofia Coppola', 2),\n",
       " ('Mark Dindal', 2),\n",
       " ('Nick Park', 2),\n",
       " ('Rob Reiner', 2),\n",
       " ('Kevin Rodney Sullivan', 2),\n",
       " ('James Wong', 2),\n",
       " ('Mel Gibson', 2),\n",
       " ('Darren Lynn Bousman', 2),\n",
       " ('Takashi Shimizu', 2),\n",
       " ('Richard Loncraine', 2),\n",
       " ('Danny Leiner', 2),\n",
       " ('Mike Nichols', 2),\n",
       " ('Michael Moore', 2),\n",
       " ('Jay Russell', 2),\n",
       " ('Richard LaGravenese', 2),\n",
       " ('Kevin Lima', 2),\n",
       " ('Colin Trevorrow', 1),\n",
       " ('Alex Garland', 1),\n",
       " ('Sam Taylor-Johnson', 1),\n",
       " ('Tom McCarthy', 1),\n",
       " ('Lenny Abrahamson', 1),\n",
       " ('Peter Sohn', 1),\n",
       " ('John Crowley', 1),\n",
       " ('Lee Toland Krieger', 1),\n",
       " ('Ilya Naishuller', 1),\n",
       " ('Jake Schreier', 1),\n",
       " ('Ericson Core', 1),\n",
       " ('Aleksander Bach', 1),\n",
       " ('Ryan Coogler', 1),\n",
       " ('Peter Landesman', 1),\n",
       " ('John Francis Daley', 1),\n",
       " ('Jonathan M. Goldstein', 1),\n",
       " ('Joel Edgerton', 1),\n",
       " ('Jocelyn Moorhouse', 1),\n",
       " ('Ari Sandel', 1),\n",
       " ('Ciaran Foy', 1),\n",
       " ('Doug Ellin', 1),\n",
       " ('Jeremy Garelick', 1),\n",
       " ('Michael Dougherty', 1),\n",
       " ('Dean Israelite', 1),\n",
       " ('Gregory Jacobs', 1),\n",
       " ('Gregory Plotkin', 1),\n",
       " ('Billy Ray', 1),\n",
       " ('Paul Tibbitt', 1),\n",
       " ('Leigh Whannell', 1),\n",
       " ('Nicholas Hytner', 1),\n",
       " ('David M. Rosenthal', 1),\n",
       " ('Etan Cohen', 1),\n",
       " ('Sarah Gavron', 1),\n",
       " ('Max Joseph', 1),\n",
       " ('Chad Stahelski', 1),\n",
       " ('David Leitch', 1),\n",
       " ('Don Hall', 1),\n",
       " ('Morten Tyldum', 1),\n",
       " ('Dan Gilroy', 1),\n",
       " ('Gareth Edwards', 1),\n",
       " ('Robert Stromberg', 1),\n",
       " ('Roger Donaldson', 1),\n",
       " ('Stiles White', 1),\n",
       " ('Patrick Hughes', 1),\n",
       " ('Sergey Bodrov', 1),\n",
       " ('James Marsh', 1),\n",
       " ('Gary Shore', 1),\n",
       " ('Scott Frank', 1),\n",
       " ('Paul King', 1),\n",
       " ('James DeMonaco', 1),\n",
       " ('Vic Armstrong', 1),\n",
       " ('R.J. Cutler', 1),\n",
       " ('Trish Sie', 1),\n",
       " ('Josh Boone', 1),\n",
       " ('JosÃ© Padilha', 1),\n",
       " ('Wally Pfister', 1),\n",
       " ('Angelina Jolie', 1),\n",
       " ('Ava DuVernay', 1),\n",
       " ('Michael Hoffman', 1),\n",
       " ('Theodore Melfi', 1),\n",
       " ('Graham Annable', 1),\n",
       " ('Brian A Miller', 1),\n",
       " ('Roberts Gannaway', 1),\n",
       " ('Sam Miller', 1),\n",
       " ('John R. Leonetti', 1),\n",
       " ('Stuart Beattie', 1),\n",
       " ('Tom Gormican', 1),\n",
       " ('Ben Falcone', 1),\n",
       " ('Christopher Spencer', 1),\n",
       " ('GrÃ©gory Levasseur', 1),\n",
       " ('Andrew Erwin', 1),\n",
       " ('Jon Erwin', 1),\n",
       " ('Dave Green', 1),\n",
       " ('Harold Cronk', 1),\n",
       " ('Matt Bettinelli-Olpin', 1),\n",
       " ('Tyler Gillett', 1),\n",
       " ('Patrick Tatopoulos', 1),\n",
       " ('Bob Peterson', 1),\n",
       " ('Shane Acker', 1),\n",
       " ('Ron Clements', 1),\n",
       " ('John Musker', 1),\n",
       " ('Henry Selick', 1),\n",
       " ('Richard Kelly', 1),\n",
       " ('Hoyt Yeatman', 1),\n",
       " ('Ricky Gervais', 1),\n",
       " ('Matthew Robinson', 1),\n",
       " ('Peter Billingsley', 1),\n",
       " ('Karyn Kusama', 1),\n",
       " ('Phil Traill', 1),\n",
       " ('Christian Alvart', 1),\n",
       " ('Michael Spierig', 1),\n",
       " ('Peter Spierig', 1),\n",
       " ('Brandon Camp', 1),\n",
       " ('Rajkumar Hirani', 1),\n",
       " ('Grant Heslov', 1),\n",
       " ('Jorge Blanco', 1),\n",
       " ('Javier Abad', 1),\n",
       " ('Marcos MartÃ\\xadnez', 1),\n",
       " ('Troy Duffy', 1),\n",
       " ('John Schultz', 1),\n",
       " ('Olatunde Osunsanmi', 1),\n",
       " ('Mike Judge', 1),\n",
       " ('Daniel Barber', 1),\n",
       " ('Steve Shill', 1),\n",
       " ('Jonas Elmer', 1),\n",
       " ('Stewart Hendler', 1),\n",
       " ('Toby Wilkins', 1),\n",
       " ('Nathan Greno', 1),\n",
       " ('Florian Henckel von Donnersmarck', 1),\n",
       " ('Ethan Maniquis', 1),\n",
       " ('Ryan Murphy', 1),\n",
       " ('Anand Tucker', 1),\n",
       " ('Alan Poul', 1),\n",
       " ('Josh Gordon', 1),\n",
       " ('Will Speck', 1),\n",
       " ('Troy Nixey', 1),\n",
       " ('Samuel Bayer', 1),\n",
       " ('Susanna White', 1),\n",
       " ('Steve Antin', 1),\n",
       " ('Nanette Burstein', 1),\n",
       " ('Greg Berlanti', 1),\n",
       " ('Colin Strause', 1),\n",
       " ('Greg Strause', 1),\n",
       " ('Jim Field Smith', 1),\n",
       " ('Anthony Bell', 1),\n",
       " ('Ben Gluck', 1),\n",
       " ('David Lynch', 1),\n",
       " ('Sharon Maguire', 1),\n",
       " ('Gary Trousdale', 1),\n",
       " ('Kirk Wise', 1),\n",
       " ('J.B. Rogers', 1),\n",
       " ('Ted Demme', 1),\n",
       " ('Jean-Jacques Annaud', 1),\n",
       " ('Joel Gallen', 1),\n",
       " ('Alejandro AmenÃ¡bar', 1),\n",
       " ('Lawrence Guterman', 1),\n",
       " ('Chris Nahon', 1),\n",
       " ('Jerry Zucker', 1),\n",
       " ('Robert Altman', 1),\n",
       " ('James Isaac', 1),\n",
       " ('John Dahl', 1),\n",
       " ('Simon Wincer', 1),\n",
       " ('Bill Paxton', 1),\n",
       " ('Dennie Gordon', 1),\n",
       " ('John Boorman', 1),\n",
       " (\"Pat O'Connor\", 1),\n",
       " ('Gregory Poirier', 1),\n",
       " ('Rob Pritts', 1),\n",
       " ('Francine McDougall', 1),\n",
       " ('DJ Pooh', 1),\n",
       " ('Pierre Morel', 1),\n",
       " ('John Stevenson', 1),\n",
       " ('Loveleen Tandan', 1),\n",
       " ('Tom Vaughan', 1),\n",
       " ('Mark Herman', 1),\n",
       " ('Jeff Wadlow', 1),\n",
       " ('Pete Travis', 1),\n",
       " ('David Wain', 1),\n",
       " ('Peter Sollett', 1),\n",
       " ('Fred Wolf', 1),\n",
       " ('David Hackl', 1),\n",
       " ('Jon Avnet', 1),\n",
       " ('Bryan Bertino', 1),\n",
       " ('Chris Carter', 1),\n",
       " ('John Patrick Shanley', 1),\n",
       " ('Paul Weiland', 1),\n",
       " ('David Moreau', 1),\n",
       " ('Xavier Palud', 1),\n",
       " ('Michael McCullers', 1),\n",
       " ('Howard Deutch', 1),\n",
       " ('Jennifer Flackett', 1),\n",
       " ('Mark Levin', 1),\n",
       " ('Anthony Leondis', 1),\n",
       " ('Nicolas Winding Refn', 1),\n",
       " ('Jennifer Yuh', 1),\n",
       " ('Brad Lewis', 1),\n",
       " ('Terrence Malick', 1),\n",
       " ('Michel Hazanavicius', 1),\n",
       " ('George Nolfi', 1),\n",
       " ('Tom Hanks', 1),\n",
       " ('Mark Mylod', 1),\n",
       " ('Chris Gorak', 1),\n",
       " ('Tate Taylor', 1),\n",
       " ('Christian E. Christiansen', 1),\n",
       " ('Oliver Parker', 1),\n",
       " ('Daniel Barnz', 1),\n",
       " ('Todd Strauss-Schulson', 1),\n",
       " ('Gonzalo LÃ³pez-Gallego', 1),\n",
       " ('John Michael McDonagh', 1),\n",
       " ('Jesse Peretz', 1),\n",
       " ('Jason Winer', 1),\n",
       " ('Alister Grierson', 1),\n",
       " ('Douglas McGrath', 1),\n",
       " ('Sean McNamara', 1),\n",
       " ('Joe Nussbaum', 1),\n",
       " ('Benny Chan', 1),\n",
       " ('Corey Yuen Kwai', 1),\n",
       " ('Curtis Hanson', 1),\n",
       " ('Joel Zwick', 1),\n",
       " ('Stuart Baird', 1),\n",
       " ('Steve Beck', 1),\n",
       " ('Lorna Cook', 1),\n",
       " ('Chuck Russell', 1),\n",
       " ('Julie Taymor', 1),\n",
       " ('Barbet Schroeder', 1),\n",
       " ('Simon Wells', 1),\n",
       " ('Adrian Lyne', 1),\n",
       " ('Michael Rymer', 1),\n",
       " ('Marcus Raboy', 1),\n",
       " ('Robin Budd', 1),\n",
       " ('Donovan Cook', 1),\n",
       " ('Mark Romanek', 1),\n",
       " ('Mark Pellington', 1),\n",
       " ('Jonathan Frakes', 1),\n",
       " ('Rick Rosenthal', 1),\n",
       " ('Tamra Davis', 1),\n",
       " ('Charles Stone III', 1),\n",
       " ('Kevin Bray', 1),\n",
       " ('MÃ¥ns MÃ¥rlind', 1),\n",
       " ('BjÃ¶rn Stein', 1),\n",
       " ('Mark Andrews', 1),\n",
       " ('Steve Purcell', 1),\n",
       " ('Brenda Chapman', 1),\n",
       " ('Rupert Sanders', 1),\n",
       " ('Mike Thurmeier', 1),\n",
       " ('Juan Antonio Bayona', 1),\n",
       " ('Rich Moore', 1),\n",
       " ('Stephen Chbosky', 1),\n",
       " ('Drew Goddard', 1),\n",
       " ('Peter Ramsey', 1),\n",
       " ('Michael Sucsy', 1),\n",
       " ('Rian Johnson', 1),\n",
       " ('Scott Speer', 1),\n",
       " ('Mike McCoy', 1),\n",
       " ('Nima Nourizadeh', 1),\n",
       " ('John Hillcoat', 1),\n",
       " ('Jeff Newitt', 1),\n",
       " ('Stephen St. Leger', 1),\n",
       " ('James Mather', 1),\n",
       " ('James Watkins', 1),\n",
       " ('Daniel Espinosa', 1),\n",
       " ('Asger Leth', 1),\n",
       " ('John Gulager', 1),\n",
       " ('Ole Bornedal', 1),\n",
       " ('Michael J. Bassett', 1),\n",
       " ('Andrew Dominik', 1),\n",
       " ('Nicholas Jarecki', 1),\n",
       " ('Dustin Hoffman', 1),\n",
       " ('Sam Fell', 1),\n",
       " ('Chris Butler', 1),\n",
       " ('Brian Klugman', 1),\n",
       " ('Lee Sternthal', 1),\n",
       " ('Dan Cutforth', 1),\n",
       " ('Jane Lipsitz', 1),\n",
       " ('Tom Shadyac', 1),\n",
       " ('Richard Curtis', 1),\n",
       " ('Stephen Norrington', 1),\n",
       " ('Steve Trenbirth', 1),\n",
       " ('Terry Zwigoff', 1),\n",
       " ('Peter Howitt', 1),\n",
       " ('Jan de Bont', 1),\n",
       " ('Rob Schmidt', 1),\n",
       " ('Peter Weir', 1),\n",
       " ('Jon Amiel', 1),\n",
       " ('Charles Herman-Wurmfeld', 1),\n",
       " ('Anthony Minghella', 1),\n",
       " ('Ronny Yu', 1),\n",
       " ('Kevin Costner', 1),\n",
       " ('Jim Fall', 1),\n",
       " ('Lawrence Kasdan', 1),\n",
       " ('Patty Jenkins', 1),\n",
       " ('Troy Miller', 1),\n",
       " ('Uwe Boll', 1),\n",
       " ('Mike Tollin', 1),\n",
       " ('FranÃ§ois Ozon', 1),\n",
       " ('Christopher Guest', 1),\n",
       " ('Christine Jeffs', 1),\n",
       " ('Jennifer Lee', 1),\n",
       " ('Shane Black', 1),\n",
       " ('Steve McQueen', 1),\n",
       " ('Dan Scanlon', 1),\n",
       " ('Tommy Wirkola', 1),\n",
       " ('Jean-Marc VallÃ©e', 1),\n",
       " ('Klay Hall', 1),\n",
       " ('Harmony Korine', 1),\n",
       " ('Fede Alvarez', 1),\n",
       " ('Derek Cianfrance', 1),\n",
       " ('Kimberly Peirce', 1),\n",
       " ('John Carney', 1),\n",
       " ('Ken Scott', 1),\n",
       " ('Seth Rogen', 1),\n",
       " ('Evan Goldberg', 1),\n",
       " ('Mike Flanagan', 1),\n",
       " ('David Soren', 1),\n",
       " ('Andy Muschietti', 1),\n",
       " ('Rusty Cundieff', 1),\n",
       " ('James Duffy', 1),\n",
       " ('Griffin Dunne', 1),\n",
       " ('Patrik Forsberg', 1),\n",
       " ('Will Graham', 1),\n",
       " ('Jonathan van Tulleken', 1),\n",
       " ('Scott Moore', 1),\n",
       " ('Jon Lucas', 1),\n",
       " ('Callan Brunker', 1),\n",
       " ('Amma Asante', 1),\n",
       " ('Cody Cameron', 1),\n",
       " ('Kris Pearn', 1),\n",
       " ('Giuseppe Tornatore', 1),\n",
       " ('Jeff Nichols', 1),\n",
       " ('Jonathan Teplitzky', 1),\n",
       " ('Neil Nightingale', 1),\n",
       " ('Barry Cook', 1),\n",
       " ('Ric Roman Waugh', 1),\n",
       " ('David E. Talbert', 1),\n",
       " ('Christopher B. Landon', 1),\n",
       " ('Joshua Michael Stern', 1),\n",
       " ('Anthony Silverston', 1),\n",
       " ('Ed Gass-Donnelly', 1),\n",
       " ('Oliver Hirschbiegel', 1),\n",
       " ('Fyodor Bondarchuk', 1),\n",
       " ('Frank Miller', 1),\n",
       " ('Garth Jennings', 1),\n",
       " ('Rob Bowman', 1),\n",
       " ('Mike Johnson', 1),\n",
       " ('Steve Box', 1),\n",
       " ('Angela Robinson', 1),\n",
       " ('Cory Edwards', 1),\n",
       " ('Todd Edwards', 1),\n",
       " ('Tony Leech', 1),\n",
       " ('John Polson', 1),\n",
       " ('Sydney Pollack', 1),\n",
       " ('Terry Gilliam', 1),\n",
       " ('Florent-Emilio Siri', 1),\n",
       " ('Jay Chandrasekhar', 1),\n",
       " ('Stephen Gaghan', 1),\n",
       " ('Frederik Du Chau', 1),\n",
       " ('Andrew Douglas', 1),\n",
       " ('Dean Parisot', 1),\n",
       " ('Jean-FranÃ§ois Richet', 1),\n",
       " ('Jim Jarmusch', 1),\n",
       " ('George A. Romero', 1),\n",
       " ('Rupert Wainwright', 1),\n",
       " ('Clare Kilner', 1),\n",
       " ('Richard Shepard', 1),\n",
       " ('Fernando Meirelles', 1),\n",
       " ('Geoffrey Sax', 1),\n",
       " ('Stephen Kay', 1),\n",
       " ('Joe Ranft', 1),\n",
       " ('Spike Lee', 1),\n",
       " ('Karey Kirkpatrick', 1),\n",
       " ('Frank Marshall', 1),\n",
       " ('Christophe Gans', 1),\n",
       " ('Stefen Fangmeier', 1),\n",
       " ('Alejandro Agresti', 1),\n",
       " (\"Matthew O'Callaghan\", 1),\n",
       " ('Jared Hess', 1),\n",
       " ('Jonathan Dayton', 1),\n",
       " ('Valerie Faris', 1),\n",
       " ('Greg Coolidge', 1),\n",
       " ('Roger Allers', 1),\n",
       " ('Jill Culton', 1),\n",
       " ('Steve Oedekerk', 1),\n",
       " ('Chris Noonan', 1),\n",
       " ('John Bonito', 1),\n",
       " ('Liz Friedlander', 1),\n",
       " ('Elizabeth Allen Rosenbaum', 1),\n",
       " ('Richard Donner', 1),\n",
       " ('Richard Eyre', 1),\n",
       " ('Barry Levinson', 1),\n",
       " ('Renny Harlin', 1),\n",
       " ('Sanjay Gadhvi', 1),\n",
       " ('Glen Morgan', 1),\n",
       " ('Phil Joanou', 1),\n",
       " ('Mira Nair', 1),\n",
       " ('Rachid Bouchareb', 1),\n",
       " ('William Brent Bell', 1),\n",
       " ('Doug Atchison', 1),\n",
       " ('Eric Bress', 1),\n",
       " ('J. Mackye Gruber', 1),\n",
       " ('Alexander Witt', 1),\n",
       " ('Brad Silberling', 1),\n",
       " ('Peter Hewitt', 1),\n",
       " ('Bibo Bergeron', 1),\n",
       " ('Stephen Hillenburg', 1),\n",
       " ('Mark Rosman', 1),\n",
       " ('Rawson Marshall Thurber', 1),\n",
       " ('Jonathan Hensleigh', 1),\n",
       " ('David Koepp', 1),\n",
       " ('Don Mancini', 1),\n",
       " ('Terry George', 1),\n",
       " ('Trey Parker', 1),\n",
       " ('Sara Sugarman', 1),\n",
       " ('Guy Ferland', 1),\n",
       " ('Joseph Ruben', 1),\n",
       " ('Nick Hamm', 1),\n",
       " ('Joseph Kahn', 1),\n",
       " (\"Gavin O'Connor\", 1),\n",
       " ('Kevin Allen', 1),\n",
       " ('Christopher Erskin', 1),\n",
       " ('Jan Pinkava', 1),\n",
       " ('Frank Darabont', 1),\n",
       " ('Sean Penn', 1),\n",
       " ('GÃ¡bor CsupÃ³', 1),\n",
       " ('Paul Thomas Anderson', 1),\n",
       " ('Raman Hui', 1),\n",
       " ('Steve Hickner', 1),\n",
       " ('Stephen J. Anderson', 1),\n",
       " ('Kevin Munroe', 1),\n",
       " ('Juan Carlos Fresnadillo', 1),\n",
       " ('Steve Bendelack', 1),\n",
       " ('Bruce A. Evans', 1),\n",
       " ('Robert Redford', 1),\n",
       " ('Kirsten Sheridan', 1),\n",
       " ('Philip G. Atwell', 1),\n",
       " ('Mennan Yapo', 1),\n",
       " ('Scott Hicks', 1),\n",
       " ('Ash Brannon', 1),\n",
       " ('Xavier Gens', 1),\n",
       " ('David Schwimmer', 1),\n",
       " ('Eli Roth', 1),\n",
       " ('Dave Meyers', 1),\n",
       " ('Julian Jarrold', 1),\n",
       " ('Shekhar Kapur', 1),\n",
       " ('Sidney Lumet', 1),\n",
       " ('Fred Savage', 1),\n",
       " ('Russell Mulcahy', 1),\n",
       " ('Michael Winterbottom', 1),\n",
       " ('Stephen Hopkins', 1),\n",
       " ('James Foley', 1),\n",
       " ('Mark Helfrich', 1),\n",
       " ('Jon Kasdan', 1),\n",
       " ('Shari Springer Berman', 1),\n",
       " ('Robert Pulcini', 1),\n",
       " ('James Gray', 1),\n",
       " ('Peter Hedges', 1),\n",
       " ('Alastair Fothergill', 1),\n",
       " ('Mark Linfield', 1),\n",
       " ('Wong Kar-wai', 1),\n",
       " ('Sylvain White', 1),\n",
       " ('Chris Rock', 1),\n",
       " ('Peter Webber', 1),\n",
       " ('Feng Xiaogang', 1),\n",
       " ('Ben Garant', 1),\n",
       " ('Ralph Zondag', 1),\n",
       " ('Eric Leighton', 1),\n",
       " ('David McNally', 1),\n",
       " ('Ben Younger', 1),\n",
       " ('Gregory Hoblit', 1),\n",
       " ('Mimi Leder', 1),\n",
       " ('Paul Verhoeven', 1),\n",
       " ('Mary Harron', 1),\n",
       " ('Lars von Trier', 1),\n",
       " ('Roger Spottiswoode', 1),\n",
       " ('Jonathan Lynn', 1),\n",
       " ('William Friedkin', 1),\n",
       " ('Robert Iscove', 1),\n",
       " ('Edward Norton', 1),\n",
       " ('Bonnie Hunt', 1)]"
      ]
     },
     "execution_count": 35,
     "metadata": {},
     "output_type": "execute_result"
    }
   ],
   "source": [
    "data_d_mt_0 = data.query('profit > 0')\n",
    "c = Counter()\n",
    "\n",
    "for n in data_d_mt_0.director:\n",
    "    for d in n.split('|'):\n",
    "        c[d] += 1\n",
    "        \n",
    "c.most_common()"
   ]
  },
  {
   "cell_type": "code",
   "execution_count": 36,
   "metadata": {},
   "outputs": [],
   "source": [
    "answer_ls.append(4)"
   ]
  },
  {
   "cell_type": "markdown",
   "metadata": {},
   "source": [
    "# 15. Кто из режиссеров принес больше всего прибыли?\n",
    "Варианты ответов:\n",
    "1. Steven Spielberg\n",
    "2. Christopher Nolan\n",
    "3. David Yates\n",
    "4. James Cameron\n",
    "5. Peter Jackson\n"
   ]
  },
  {
   "cell_type": "code",
   "execution_count": 38,
   "metadata": {},
   "outputs": [
    {
     "data": {
      "text/html": [
       "<div>\n",
       "<style scoped>\n",
       "    .dataframe tbody tr th:only-of-type {\n",
       "        vertical-align: middle;\n",
       "    }\n",
       "\n",
       "    .dataframe tbody tr th {\n",
       "        vertical-align: top;\n",
       "    }\n",
       "\n",
       "    .dataframe thead th {\n",
       "        text-align: right;\n",
       "    }\n",
       "</style>\n",
       "<table border=\"1\" class=\"dataframe\">\n",
       "  <thead>\n",
       "    <tr style=\"text-align: right;\">\n",
       "      <th></th>\n",
       "      <th>popularity</th>\n",
       "      <th>budget</th>\n",
       "      <th>revenue</th>\n",
       "      <th>runtime</th>\n",
       "      <th>vote_count</th>\n",
       "      <th>vote_average</th>\n",
       "      <th>release_year</th>\n",
       "      <th>profit</th>\n",
       "    </tr>\n",
       "    <tr>\n",
       "      <th>director</th>\n",
       "      <th></th>\n",
       "      <th></th>\n",
       "      <th></th>\n",
       "      <th></th>\n",
       "      <th></th>\n",
       "      <th></th>\n",
       "      <th></th>\n",
       "      <th></th>\n",
       "    </tr>\n",
       "  </thead>\n",
       "  <tbody>\n",
       "    <tr>\n",
       "      <th>Peter Jackson</th>\n",
       "      <td>45.679675</td>\n",
       "      <td>1288000000</td>\n",
       "      <td>6490593685</td>\n",
       "      <td>1355</td>\n",
       "      <td>31197</td>\n",
       "      <td>58.1</td>\n",
       "      <td>16059</td>\n",
       "      <td>5202593685</td>\n",
       "    </tr>\n",
       "  </tbody>\n",
       "</table>\n",
       "</div>"
      ],
      "text/plain": [
       "               popularity      budget     revenue  runtime  vote_count  \\\n",
       "director                                                                 \n",
       "Peter Jackson   45.679675  1288000000  6490593685     1355       31197   \n",
       "\n",
       "               vote_average  release_year      profit  \n",
       "director                                               \n",
       "Peter Jackson          58.1         16059  5202593685  "
      ]
     },
     "execution_count": 38,
     "metadata": {},
     "output_type": "execute_result"
    }
   ],
   "source": [
    "max_profit = data.groupby('director').sum()\n",
    "max_profit.query('profit == profit.max()')"
   ]
  },
  {
   "cell_type": "code",
   "execution_count": 39,
   "metadata": {},
   "outputs": [],
   "source": [
    "\n",
    "answer_ls.append(5)"
   ]
  },
  {
   "cell_type": "markdown",
   "metadata": {},
   "source": [
    "# 16. Какой актер принес больше всего прибыли?\n",
    "Варианты ответов:\n",
    "1. Emma Watson\n",
    "2. Johnny Depp\n",
    "3. Michelle Rodriguez\n",
    "4. Orlando Bloom\n",
    "5. Rupert Grint"
   ]
  },
  {
   "cell_type": "code",
   "execution_count": 40,
   "metadata": {},
   "outputs": [
    {
     "data": {
      "text/plain": [
       "('Emma Watson', 6666245597)"
      ]
     },
     "execution_count": 40,
     "metadata": {},
     "output_type": "execute_result"
    }
   ],
   "source": [
    "d = Counter()\n",
    "\n",
    "for _, row in data.iterrows():\n",
    "    for c in row.cast.split('|'):\n",
    "        d[c] += row.profit\n",
    "        \n",
    "d.most_common()[0]"
   ]
  },
  {
   "cell_type": "code",
   "execution_count": 41,
   "metadata": {},
   "outputs": [],
   "source": [
    "answer_ls.append(1)"
   ]
  },
  {
   "cell_type": "markdown",
   "metadata": {},
   "source": [
    "# 17. Какой актер принес меньше всего прибыли в 2012 году?\n",
    "Варианты ответов:\n",
    "1. Nicolas Cage\n",
    "2. Danny Huston\n",
    "3. Kirsten Dunst\n",
    "4. Jim Sturgess\n",
    "5. Sami Gayle"
   ]
  },
  {
   "cell_type": "code",
   "execution_count": 42,
   "metadata": {},
   "outputs": [
    {
     "data": {
      "text/plain": [
       "('Kirsten Dunst', -68109207)"
      ]
     },
     "execution_count": 42,
     "metadata": {},
     "output_type": "execute_result"
    }
   ],
   "source": [
    "d = Counter()\n",
    "\n",
    "for _, row in data.query('release_year == 2012').iterrows():\n",
    "    for c in row.cast.split('|'):\n",
    "        d[c] += row.profit\n",
    "        \n",
    "d.most_common()[-1]"
   ]
  },
  {
   "cell_type": "code",
   "execution_count": 43,
   "metadata": {},
   "outputs": [],
   "source": [
    "answer_ls.append(3)"
   ]
  },
  {
   "cell_type": "markdown",
   "metadata": {},
   "source": [
    "# 18. Какой актер снялся в большем количестве высокобюджетных фильмов? (в фильмах где бюджет выше среднего по данной выборке)\n",
    "Варианты ответов:\n",
    "1. Tom Cruise\n",
    "2. Mark Wahlberg \n",
    "3. Matt Damon\n",
    "4. Angelina Jolie\n",
    "5. Adam Sandler"
   ]
  },
  {
   "cell_type": "code",
   "execution_count": 44,
   "metadata": {},
   "outputs": [
    {
     "data": {
      "text/plain": [
       "('Matt Damon', 18)"
      ]
     },
     "execution_count": 44,
     "metadata": {},
     "output_type": "execute_result"
    }
   ],
   "source": [
    "c = Counter()\n",
    "\n",
    "for i in data[data.budget > data.budget.mean()].cast:\n",
    "    for a in i.split('|'):\n",
    "        c[a] += 1\n",
    "    \n",
    "c.most_common()[0]"
   ]
  },
  {
   "cell_type": "code",
   "execution_count": 45,
   "metadata": {},
   "outputs": [],
   "source": [
    "answer_ls.append(3)"
   ]
  },
  {
   "cell_type": "markdown",
   "metadata": {},
   "source": [
    "# 19. В фильмах какого жанра больше всего снимался Nicolas Cage?  \n",
    "Варианты ответа:\n",
    "1. Drama\n",
    "2. Action\n",
    "3. Thriller\n",
    "4. Adventure\n",
    "5. Crime"
   ]
  },
  {
   "cell_type": "code",
   "execution_count": 46,
   "metadata": {},
   "outputs": [
    {
     "data": {
      "text/plain": [
       "('Action', 17)"
      ]
     },
     "execution_count": 46,
     "metadata": {},
     "output_type": "execute_result"
    }
   ],
   "source": [
    "c = Counter()\n",
    "\n",
    "for _, row in data[data.cast.str.contains('Nicolas Cage')].iterrows():\n",
    "    for g in row.genres.split('|'):\n",
    "        c[g] += 1\n",
    "    \n",
    "c.most_common()[0]"
   ]
  },
  {
   "cell_type": "code",
   "execution_count": 47,
   "metadata": {},
   "outputs": [],
   "source": [
    "answer_ls.append(2)"
   ]
  },
  {
   "cell_type": "markdown",
   "metadata": {},
   "source": [
    "# 20. Какая студия сняла больше всего фильмов?\n",
    "Варианты ответа:\n",
    "1. Universal Pictures (Universal)\n",
    "2. Paramount Pictures\n",
    "3. Columbia Pictures\n",
    "4. Warner Bros\n",
    "5. Twentieth Century Fox Film Corporation"
   ]
  },
  {
   "cell_type": "code",
   "execution_count": 48,
   "metadata": {},
   "outputs": [
    {
     "data": {
      "text/plain": [
       "('Universal Pictures', 173)"
      ]
     },
     "execution_count": 48,
     "metadata": {},
     "output_type": "execute_result"
    }
   ],
   "source": [
    "c = Counter()\n",
    "\n",
    "for studios in data.production_companies:\n",
    "    for s in studios.split('|'):\n",
    "        c[s] += 1\n",
    "    \n",
    "c.most_common()[0]"
   ]
  },
  {
   "cell_type": "code",
   "execution_count": 49,
   "metadata": {},
   "outputs": [],
   "source": [
    "answer_ls.append(1)"
   ]
  },
  {
   "cell_type": "markdown",
   "metadata": {},
   "source": [
    "# 21. Какая студия сняла больше всего фильмов в 2015 году?\n",
    "Варианты ответа:\n",
    "1. Universal Pictures\n",
    "2. Paramount Pictures\n",
    "3. Columbia Pictures\n",
    "4. Warner Bros\n",
    "5. Twentieth Century Fox Film Corporation"
   ]
  },
  {
   "cell_type": "code",
   "execution_count": 50,
   "metadata": {},
   "outputs": [
    {
     "data": {
      "text/plain": [
       "('Warner Bros.', 12)"
      ]
     },
     "execution_count": 50,
     "metadata": {},
     "output_type": "execute_result"
    }
   ],
   "source": [
    "c = Counter()\n",
    "\n",
    "for studios in data[data.release_year == 2015].production_companies:\n",
    "    for s in studios.split('|'):\n",
    "        c[s] += 1\n",
    "    \n",
    "c.most_common()[0]"
   ]
  },
  {
   "cell_type": "code",
   "execution_count": 51,
   "metadata": {},
   "outputs": [],
   "source": [
    "answer_ls.append(4)"
   ]
  },
  {
   "cell_type": "markdown",
   "metadata": {},
   "source": [
    "# 22. Какая студия заработала больше всего денег в жанре комедий за все время?\n",
    "Варианты ответа:\n",
    "1. Warner Bros\n",
    "2. Universal Pictures (Universal)\n",
    "3. Columbia Pictures\n",
    "4. Paramount Pictures\n",
    "5. Walt Disney"
   ]
  },
  {
   "cell_type": "code",
   "execution_count": 53,
   "metadata": {},
   "outputs": [
    {
     "data": {
      "text/plain": [
       "('Universal Pictures', 8961545581)"
      ]
     },
     "execution_count": 53,
     "metadata": {},
     "output_type": "execute_result"
    }
   ],
   "source": [
    "c = Counter()\n",
    "\n",
    "for _, row in data[data.genres.str.contains('Comedy')].iterrows():\n",
    "    for s in row.production_companies.split('|'):\n",
    "        c[s] += row.profit\n",
    "    \n",
    "c.most_common()[0]"
   ]
  },
  {
   "cell_type": "code",
   "execution_count": 54,
   "metadata": {},
   "outputs": [],
   "source": [
    "answer_ls.append(2)"
   ]
  },
  {
   "cell_type": "markdown",
   "metadata": {},
   "source": [
    "# 23. Какая студия заработала больше всего денег в 2012 году?\n",
    "Варианты ответа:\n",
    "1. Universal Pictures (Universal)\n",
    "2. Warner Bros\n",
    "3. Columbia Pictures\n",
    "4. Paramount Pictures\n",
    "5. Lucasfilm"
   ]
  },
  {
   "cell_type": "code",
   "execution_count": 55,
   "metadata": {},
   "outputs": [
    {
     "data": {
      "text/plain": [
       "('Columbia Pictures', 2501406608)"
      ]
     },
     "execution_count": 55,
     "metadata": {},
     "output_type": "execute_result"
    }
   ],
   "source": [
    "c = Counter()\n",
    "\n",
    "for _, row in data[data.release_year == 2012].iterrows():\n",
    "    for s in row.production_companies.split('|'):\n",
    "        c[s] += row.profit\n",
    "    \n",
    "c.most_common()[0]"
   ]
  },
  {
   "cell_type": "code",
   "execution_count": 56,
   "metadata": {},
   "outputs": [],
   "source": [
    "answer_ls.append(3)"
   ]
  },
  {
   "cell_type": "markdown",
   "metadata": {},
   "source": [
    "# 24. Самый убыточный фильм от Paramount Pictures\n",
    "Варианты ответа:\n",
    "\n",
    "1. K-19: The Widowmaker tt0267626\n",
    "2. Next tt0435705\n",
    "3. Twisted tt0315297\n",
    "4. The Love Guru tt0811138\n",
    "5. The Fighter tt0964517"
   ]
  },
  {
   "cell_type": "code",
   "execution_count": 57,
   "metadata": {},
   "outputs": [
    {
     "data": {
      "text/html": [
       "<div>\n",
       "<style scoped>\n",
       "    .dataframe tbody tr th:only-of-type {\n",
       "        vertical-align: middle;\n",
       "    }\n",
       "\n",
       "    .dataframe tbody tr th {\n",
       "        vertical-align: top;\n",
       "    }\n",
       "\n",
       "    .dataframe thead th {\n",
       "        text-align: right;\n",
       "    }\n",
       "</style>\n",
       "<table border=\"1\" class=\"dataframe\">\n",
       "  <thead>\n",
       "    <tr style=\"text-align: right;\">\n",
       "      <th></th>\n",
       "      <th>imdb_id</th>\n",
       "      <th>popularity</th>\n",
       "      <th>budget</th>\n",
       "      <th>revenue</th>\n",
       "      <th>original_title</th>\n",
       "      <th>cast</th>\n",
       "      <th>director</th>\n",
       "      <th>tagline</th>\n",
       "      <th>overview</th>\n",
       "      <th>runtime</th>\n",
       "      <th>genres</th>\n",
       "      <th>production_companies</th>\n",
       "      <th>release_date</th>\n",
       "      <th>vote_count</th>\n",
       "      <th>vote_average</th>\n",
       "      <th>release_year</th>\n",
       "      <th>profit</th>\n",
       "    </tr>\n",
       "  </thead>\n",
       "  <tbody>\n",
       "    <tr>\n",
       "      <th>926</th>\n",
       "      <td>tt0267626</td>\n",
       "      <td>0.72233</td>\n",
       "      <td>100000000</td>\n",
       "      <td>35168966</td>\n",
       "      <td>K-19: The Widowmaker</td>\n",
       "      <td>Harrison Ford|Liam Neeson|Peter Sarsgaard|Joss...</td>\n",
       "      <td>Kathryn Bigelow</td>\n",
       "      <td>Fate has found its hero.</td>\n",
       "      <td>When Russia's first nuclear submarine malfunct...</td>\n",
       "      <td>138</td>\n",
       "      <td>Thriller|Drama|History</td>\n",
       "      <td>Paramount Pictures|Intermedia Films|National G...</td>\n",
       "      <td>7/19/2002</td>\n",
       "      <td>146</td>\n",
       "      <td>6.0</td>\n",
       "      <td>2002</td>\n",
       "      <td>-64831034</td>\n",
       "    </tr>\n",
       "  </tbody>\n",
       "</table>\n",
       "</div>"
      ],
      "text/plain": [
       "       imdb_id  popularity     budget   revenue        original_title  \\\n",
       "926  tt0267626     0.72233  100000000  35168966  K-19: The Widowmaker   \n",
       "\n",
       "                                                  cast         director  \\\n",
       "926  Harrison Ford|Liam Neeson|Peter Sarsgaard|Joss...  Kathryn Bigelow   \n",
       "\n",
       "                      tagline  \\\n",
       "926  Fate has found its hero.   \n",
       "\n",
       "                                              overview  runtime  \\\n",
       "926  When Russia's first nuclear submarine malfunct...      138   \n",
       "\n",
       "                     genres  \\\n",
       "926  Thriller|Drama|History   \n",
       "\n",
       "                                  production_companies release_date  \\\n",
       "926  Paramount Pictures|Intermedia Films|National G...    7/19/2002   \n",
       "\n",
       "     vote_count  vote_average  release_year    profit  \n",
       "926         146           6.0          2002 -64831034  "
      ]
     },
     "execution_count": 57,
     "metadata": {},
     "output_type": "execute_result"
    }
   ],
   "source": [
    "data_pp = data[data.production_companies.str.contains('Paramount Pictures')]\n",
    "data_pp[data_pp.profit == data_pp.profit.min()]"
   ]
  },
  {
   "cell_type": "code",
   "execution_count": 58,
   "metadata": {},
   "outputs": [],
   "source": [
    "answer_ls.append(1)"
   ]
  },
  {
   "cell_type": "markdown",
   "metadata": {},
   "source": [
    "# 25. Какой Самый прибыльный год (заработали больше всего)?\n",
    "Варианты ответа:\n",
    "1. 2014\n",
    "2. 2008\n",
    "3. 2012\n",
    "4. 2002\n",
    "5. 2015"
   ]
  },
  {
   "cell_type": "code",
   "execution_count": 59,
   "metadata": {},
   "outputs": [
    {
     "data": {
      "text/html": [
       "<div>\n",
       "<style scoped>\n",
       "    .dataframe tbody tr th:only-of-type {\n",
       "        vertical-align: middle;\n",
       "    }\n",
       "\n",
       "    .dataframe tbody tr th {\n",
       "        vertical-align: top;\n",
       "    }\n",
       "\n",
       "    .dataframe thead th {\n",
       "        text-align: right;\n",
       "    }\n",
       "</style>\n",
       "<table border=\"1\" class=\"dataframe\">\n",
       "  <thead>\n",
       "    <tr style=\"text-align: right;\">\n",
       "      <th></th>\n",
       "      <th>profit</th>\n",
       "    </tr>\n",
       "    <tr>\n",
       "      <th>release_year</th>\n",
       "      <th></th>\n",
       "    </tr>\n",
       "  </thead>\n",
       "  <tbody>\n",
       "    <tr>\n",
       "      <th>2015</th>\n",
       "      <td>18668572378</td>\n",
       "    </tr>\n",
       "  </tbody>\n",
       "</table>\n",
       "</div>"
      ],
      "text/plain": [
       "                   profit\n",
       "release_year             \n",
       "2015          18668572378"
      ]
     },
     "execution_count": 59,
     "metadata": {},
     "output_type": "execute_result"
    }
   ],
   "source": [
    "data.pivot_table(\n",
    "    values='profit',\n",
    "    index='release_year',\n",
    "    aggfunc='sum'\n",
    ").query('profit == profit.max()')"
   ]
  },
  {
   "cell_type": "code",
   "execution_count": 60,
   "metadata": {},
   "outputs": [],
   "source": [
    "answer_ls.append(5)"
   ]
  },
  {
   "cell_type": "markdown",
   "metadata": {},
   "source": [
    "# 26. Какой Самый прибыльный год для студии Warner Bros?\n",
    "Варианты ответа:\n",
    "1. 2014\n",
    "2. 2008\n",
    "3. 2012\n",
    "4. 2010\n",
    "5. 2015"
   ]
  },
  {
   "cell_type": "code",
   "execution_count": 61,
   "metadata": {},
   "outputs": [
    {
     "data": {
      "text/html": [
       "<div>\n",
       "<style scoped>\n",
       "    .dataframe tbody tr th:only-of-type {\n",
       "        vertical-align: middle;\n",
       "    }\n",
       "\n",
       "    .dataframe tbody tr th {\n",
       "        vertical-align: top;\n",
       "    }\n",
       "\n",
       "    .dataframe thead th {\n",
       "        text-align: right;\n",
       "    }\n",
       "</style>\n",
       "<table border=\"1\" class=\"dataframe\">\n",
       "  <thead>\n",
       "    <tr style=\"text-align: right;\">\n",
       "      <th></th>\n",
       "      <th>profit</th>\n",
       "    </tr>\n",
       "    <tr>\n",
       "      <th>release_year</th>\n",
       "      <th></th>\n",
       "    </tr>\n",
       "  </thead>\n",
       "  <tbody>\n",
       "    <tr>\n",
       "      <th>2014</th>\n",
       "      <td>2295464519</td>\n",
       "    </tr>\n",
       "  </tbody>\n",
       "</table>\n",
       "</div>"
      ],
      "text/plain": [
       "                  profit\n",
       "release_year            \n",
       "2014          2295464519"
      ]
     },
     "execution_count": 61,
     "metadata": {},
     "output_type": "execute_result"
    }
   ],
   "source": [
    "data[data.production_companies.str.contains(\"Warner Bros\")]\\\n",
    "    .pivot_table(\n",
    "        values='profit',\n",
    "        index='release_year',\n",
    "        aggfunc='sum'\n",
    "    ).query('profit == profit.max()')"
   ]
  },
  {
   "cell_type": "code",
   "execution_count": 62,
   "metadata": {},
   "outputs": [],
   "source": [
    "answer_ls.append(1)"
   ]
  },
  {
   "cell_type": "markdown",
   "metadata": {},
   "source": [
    "# 27. В каком месяце за все годы суммарно вышло больше всего фильмов?\n",
    "Варианты ответа:\n",
    "1. Январь\n",
    "2. Июнь\n",
    "3. Декабрь\n",
    "4. Сентябрь\n",
    "5. Май"
   ]
  },
  {
   "cell_type": "code",
   "execution_count": 67,
   "metadata": {},
   "outputs": [
    {
     "data": {
      "text/plain": [
       "9     227\n",
       "12    191\n",
       "10    186\n",
       "8     161\n",
       "3     156\n",
       "4     149\n",
       "6     147\n",
       "11    146\n",
       "7     142\n",
       "5     140\n",
       "2     135\n",
       "1     110\n",
       "Name: release_date, dtype: int64"
      ]
     },
     "execution_count": 67,
     "metadata": {},
     "output_type": "execute_result"
    }
   ],
   "source": [
    "data['month'] = data.release_date.apply(lambda s: int(s.split('/')[0]))\n",
    "data.month.value_counts(sort=True)"
   ]
  },
  {
   "cell_type": "code",
   "execution_count": 65,
   "metadata": {},
   "outputs": [],
   "source": [
    "answer_ls.append(4)"
   ]
  },
  {
   "cell_type": "markdown",
   "metadata": {},
   "source": [
    "# 28. Сколько суммарно вышло фильмов летом? (за июнь, июль, август)\n",
    "Варианты ответа:\n",
    "1. 345\n",
    "2. 450\n",
    "3. 478\n",
    "4. 523\n",
    "5. 381"
   ]
  },
  {
   "cell_type": "code",
   "execution_count": 68,
   "metadata": {},
   "outputs": [
    {
     "data": {
      "text/plain": [
       "450"
      ]
     },
     "execution_count": 68,
     "metadata": {},
     "output_type": "execute_result"
    }
   ],
   "source": [
    "data.query('month in [6, 7, 8]').count()[0]"
   ]
  },
  {
   "cell_type": "code",
   "execution_count": 69,
   "metadata": {},
   "outputs": [],
   "source": [
    "answer_ls.append(2)"
   ]
  },
  {
   "cell_type": "markdown",
   "metadata": {},
   "source": [
    "# 29. Какой режисер выпускает (суммарно по годам) больше всего фильмов зимой?\n",
    "Варианты ответов:\n",
    "1. Steven Soderbergh\n",
    "2. Christopher Nolan\n",
    "3. Clint Eastwood\n",
    "4. Ridley Scott\n",
    "5. Peter Jackson"
   ]
  },
  {
   "cell_type": "code",
   "execution_count": 71,
   "metadata": {},
   "outputs": [
    {
     "data": {
      "text/plain": [
       "('Peter Jackson', 7)"
      ]
     },
     "execution_count": 71,
     "metadata": {},
     "output_type": "execute_result"
    }
   ],
   "source": [
    "c = Counter()\n",
    "\n",
    "for directors in data.query('month in [1, 2, 12]').director:\n",
    "    for d in directors.split('|'):\n",
    "        c[d] += 1\n",
    "    \n",
    "c.most_common()[0]"
   ]
  },
  {
   "cell_type": "code",
   "execution_count": 72,
   "metadata": {},
   "outputs": [],
   "source": [
    "answer_ls.append(5)"
   ]
  },
  {
   "cell_type": "markdown",
   "metadata": {},
   "source": [
    "# 30. Какой месяц чаще всего по годам самый прибыльный?\n",
    "Варианты ответа:\n",
    "1. Январь\n",
    "2. Июнь\n",
    "3. Декабрь\n",
    "4. Сентябрь\n",
    "5. Май"
   ]
  },
  {
   "cell_type": "code",
   "execution_count": 73,
   "metadata": {},
   "outputs": [
    {
     "data": {
      "text/plain": [
       "(6, 7)"
      ]
     },
     "execution_count": 73,
     "metadata": {},
     "output_type": "execute_result"
    }
   ],
   "source": [
    "pr_month = data.pivot_table(\n",
    "    values='profit',\n",
    "    index='month',\n",
    "    columns='release_year',\n",
    "    aggfunc='sum'\n",
    ")\n",
    "\n",
    "c = Counter()\n",
    "\n",
    "for year in pr_month.columns:\n",
    "    c[pr_month.index[pr_month[year] == pr_month[year].max()].values[0]] += 1\n",
    "    \n",
    "c.most_common()[0]"
   ]
  },
  {
   "cell_type": "code",
   "execution_count": 74,
   "metadata": {},
   "outputs": [],
   "source": [
    "answer_ls.append(2)"
   ]
  },
  {
   "cell_type": "markdown",
   "metadata": {},
   "source": [
    "# 31. Названия фильмов какой студии в среднем самые длинные по количеству символов?\n",
    "Варианты ответа:\n",
    "1. Universal Pictures (Universal)\n",
    "2. Warner Bros\n",
    "3. Jim Henson Company, The\n",
    "4. Paramount Pictures\n",
    "5. Four By Two Productions"
   ]
  },
  {
   "cell_type": "code",
   "execution_count": 76,
   "metadata": {},
   "outputs": [
    {
     "data": {
      "text/html": [
       "<div>\n",
       "<style scoped>\n",
       "    .dataframe tbody tr th:only-of-type {\n",
       "        vertical-align: middle;\n",
       "    }\n",
       "\n",
       "    .dataframe tbody tr th {\n",
       "        vertical-align: top;\n",
       "    }\n",
       "\n",
       "    .dataframe thead th {\n",
       "        text-align: right;\n",
       "    }\n",
       "</style>\n",
       "<table border=\"1\" class=\"dataframe\">\n",
       "  <thead>\n",
       "    <tr style=\"text-align: right;\">\n",
       "      <th></th>\n",
       "      <th>length_of_title</th>\n",
       "    </tr>\n",
       "    <tr>\n",
       "      <th>production_companies</th>\n",
       "      <th></th>\n",
       "    </tr>\n",
       "  </thead>\n",
       "  <tbody>\n",
       "    <tr>\n",
       "      <th>Twentieth Century Fox Film Corporation|Four By Two Productions</th>\n",
       "      <td>83.0</td>\n",
       "    </tr>\n",
       "  </tbody>\n",
       "</table>\n",
       "</div>"
      ],
      "text/plain": [
       "                                                    length_of_title\n",
       "production_companies                                               \n",
       "Twentieth Century Fox Film Corporation|Four By ...             83.0"
      ]
     },
     "execution_count": 76,
     "metadata": {},
     "output_type": "execute_result"
    }
   ],
   "source": [
    "data['length_of_title'] = data.original_title.apply(lambda s: len(s))\n",
    "\n",
    "data.pivot_table(\n",
    "    values='length_of_title',\n",
    "    index='production_companies',\n",
    "    aggfunc='mean'\n",
    ").query('length_of_title == length_of_title.max()')"
   ]
  },
  {
   "cell_type": "code",
   "execution_count": 77,
   "metadata": {},
   "outputs": [],
   "source": [
    "answer_ls.append(5)"
   ]
  },
  {
   "cell_type": "markdown",
   "metadata": {},
   "source": [
    "# 32. Названия фильмов какой студии в среднем самые длинные по количеству слов?\n",
    "Варианты ответа:\n",
    "1. Universal Pictures (Universal)\n",
    "2. Warner Bros\n",
    "3. Jim Henson Company, The\n",
    "4. Paramount Pictures\n",
    "5. Four By Two Productions"
   ]
  },
  {
   "cell_type": "code",
   "execution_count": 78,
   "metadata": {},
   "outputs": [
    {
     "data": {
      "text/html": [
       "<div>\n",
       "<style scoped>\n",
       "    .dataframe tbody tr th:only-of-type {\n",
       "        vertical-align: middle;\n",
       "    }\n",
       "\n",
       "    .dataframe tbody tr th {\n",
       "        vertical-align: top;\n",
       "    }\n",
       "\n",
       "    .dataframe thead th {\n",
       "        text-align: right;\n",
       "    }\n",
       "</style>\n",
       "<table border=\"1\" class=\"dataframe\">\n",
       "  <thead>\n",
       "    <tr style=\"text-align: right;\">\n",
       "      <th></th>\n",
       "      <th>words_in_title</th>\n",
       "    </tr>\n",
       "    <tr>\n",
       "      <th>production_companies</th>\n",
       "      <th></th>\n",
       "    </tr>\n",
       "  </thead>\n",
       "  <tbody>\n",
       "    <tr>\n",
       "      <th>Twentieth Century Fox Film Corporation|Four By Two Productions</th>\n",
       "      <td>12.0</td>\n",
       "    </tr>\n",
       "  </tbody>\n",
       "</table>\n",
       "</div>"
      ],
      "text/plain": [
       "                                                    words_in_title\n",
       "production_companies                                              \n",
       "Twentieth Century Fox Film Corporation|Four By ...            12.0"
      ]
     },
     "execution_count": 78,
     "metadata": {},
     "output_type": "execute_result"
    }
   ],
   "source": [
    "data['words_in_title'] = data.original_title.apply(lambda s: len(s.split(' ')))\n",
    "data.pivot_table(\n",
    "    values='words_in_title',\n",
    "    index='production_companies',\n",
    "    aggfunc='mean'\n",
    ").query('words_in_title == words_in_title.max()')"
   ]
  },
  {
   "cell_type": "code",
   "execution_count": 79,
   "metadata": {},
   "outputs": [],
   "source": [
    "answer_ls.append(5)"
   ]
  },
  {
   "cell_type": "markdown",
   "metadata": {},
   "source": [
    "# 33. Сколько разных слов используется в названиях фильмов?(без учета регистра)\n",
    "Варианты ответа:\n",
    "1. 6540\n",
    "2. 1002\n",
    "3. 2461\n",
    "4. 28304\n",
    "5. 3432"
   ]
  },
  {
   "cell_type": "code",
   "execution_count": 80,
   "metadata": {},
   "outputs": [
    {
     "data": {
      "text/plain": [
       "2462"
      ]
     },
     "execution_count": 80,
     "metadata": {},
     "output_type": "execute_result"
    }
   ],
   "source": [
    "c = Counter()\n",
    "\n",
    "for title in data.original_title:\n",
    "    for word in title.split(' '):\n",
    "        c[word.lower()] += 1\n",
    "        \n",
    "len(c)"
   ]
  },
  {
   "cell_type": "code",
   "execution_count": 81,
   "metadata": {},
   "outputs": [],
   "source": [
    "answer_ls.append(3)"
   ]
  },
  {
   "cell_type": "markdown",
   "metadata": {},
   "source": [
    "# 34. Какие фильмы входят в 1 процент лучших по рейтингу?\n",
    "Варианты ответа:\n",
    "1. Inside Out, Gone Girl, 12 Years a Slave\n",
    "2. BloodRayne, The Adventures of Rocky & Bullwinkle\n",
    "3. The Lord of the Rings: The Return of the King\n",
    "4. 300, Lucky Number Slevin\n",
    "5. Upside Down, 300, Inside Out, The Lord of the Rings: The Return of the King"
   ]
  },
  {
   "cell_type": "code",
   "execution_count": 82,
   "metadata": {},
   "outputs": [
    {
     "data": {
      "text/plain": [
       "['Inside Out',\n",
       " 'Gone Girl',\n",
       " '12 Years a Slave',\n",
       " 'The Lord of the Rings: The Return of the King',\n",
       " 'Lucky Number Slevin',\n",
       " 'Inside Out',\n",
       " 'The Lord of the Rings: The Return of the King']"
      ]
     },
     "execution_count": 82,
     "metadata": {},
     "output_type": "execute_result"
    }
   ],
   "source": [
    "ser = data.sort_values('vote_average', ascending=False)[:int(len(data)*.1)].original_title\n",
    "variants = [\n",
    "    'Inside Out', 'Gone Girl', '12 Years a Slave',\n",
    "    'BloodRayne', 'The Adventures of Rocky and Bullwinkle',\n",
    "    'The Lord of the Rings: The Return of the King', 'Upside Down',\n",
    "    '300', 'Lucky Number Slevin',\n",
    "    'Upside Down', '300','Inside Out', 'The Lord of the Rings: The Return of the King'\n",
    "]\n",
    "[v for v in variants if len(ser[ser == v])]"
   ]
  },
  {
   "cell_type": "code",
   "execution_count": 83,
   "metadata": {},
   "outputs": [],
   "source": [
    "answer_ls.append(1)"
   ]
  },
  {
   "cell_type": "markdown",
   "metadata": {},
   "source": [
    "# 35. Какие актеры чаще всего снимаются в одном фильме вместе\n",
    "Варианты ответа:\n",
    "1. Johnny Depp & Helena Bonham Carter\n",
    "2. Hugh Jackman & Ian McKellen\n",
    "3. Vin Diesel & Paul Walker\n",
    "4. Adam Sandler & Kevin James\n",
    "5. Daniel Radcliffe & Rupert Grint"
   ]
  },
  {
   "cell_type": "code",
   "execution_count": 84,
   "metadata": {},
   "outputs": [
    {
     "name": "stdout",
     "output_type": "stream",
     "text": [
      "('Johnny Depp', 'Helena Bonham Carter') 6\n",
      "('Hugh Jackman', 'Ian McKellen') 5\n",
      "('Vin Diesel', 'Paul Walker') 5\n",
      "('Adam Sandler', 'Kevin James') 5\n",
      "('Daniel Radcliffe', 'Rupert Grint') 8\n"
     ]
    }
   ],
   "source": [
    "pairs = [\n",
    "    ('Johnny Depp', 'Helena Bonham Carter'),\n",
    "    ('Hugh Jackman', 'Ian McKellen'),\n",
    "    ('Vin Diesel', 'Paul Walker'),\n",
    "    ('Adam Sandler', 'Kevin James'),\n",
    "    ('Daniel Radcliffe', 'Rupert Grint')\n",
    "]\n",
    "\n",
    "for p in pairs:\n",
    "    times = len(data[(data.cast.str.contains(p[0])) & (data.cast.str.contains(p[1]))])\n",
    "    print(p, times)"
   ]
  },
  {
   "cell_type": "code",
   "execution_count": 85,
   "metadata": {},
   "outputs": [],
   "source": [
    "answer_ls.append(5)"
   ]
  },
  {
   "cell_type": "markdown",
   "metadata": {},
   "source": [
    "# 36. У какого из режиссеров выше вероятность выпустить фильм в прибыли? (5 баллов)101\n",
    "Варианты ответа:\n",
    "1. Quentin Tarantino\n",
    "2. Steven Soderbergh\n",
    "3. Robert Rodriguez\n",
    "4. Christopher Nolan\n",
    "5. Clint Eastwood"
   ]
  },
  {
   "cell_type": "code",
   "execution_count": 86,
   "metadata": {},
   "outputs": [
    {
     "data": {
      "text/plain": [
       "director\n",
       "Christopher Nolan    100.000000\n",
       "Clint Eastwood        83.333333\n",
       "Quentin Tarantino    100.000000\n",
       "Robert Rodriguez      85.714286\n",
       "Steven Soderbergh     76.923077\n",
       "Name: percent_success, dtype: float64"
      ]
     },
     "execution_count": 86,
     "metadata": {},
     "output_type": "execute_result"
    }
   ],
   "source": [
    "dirs = [\n",
    "    'Quentin Tarantino',\n",
    "    'Steven Soderbergh',\n",
    "    'Robert Rodriguez',\n",
    "    'Christopher Nolan',\n",
    "    'Clint Eastwood',    \n",
    "]\n",
    "all_films = data.query('director in @dirs').groupby('director').count()\n",
    "succ_films = data.query('director in @dirs & profit > 0').groupby('director').count()\n",
    "all_films['percent_success'] = (succ_films['profit'] / all_films['profit']) * 100\n",
    "all_films.percent_success"
   ]
  },
  {
   "cell_type": "code",
   "execution_count": 87,
   "metadata": {},
   "outputs": [],
   "source": [
    "answer_ls.append(4)"
   ]
  },
  {
   "cell_type": "markdown",
   "metadata": {},
   "source": [
    "# Submission"
   ]
  },
  {
   "cell_type": "code",
   "execution_count": 88,
   "metadata": {},
   "outputs": [
    {
     "data": {
      "text/plain": [
       "36"
      ]
     },
     "execution_count": 88,
     "metadata": {},
     "output_type": "execute_result"
    }
   ],
   "source": [
    "len(answer_ls)"
   ]
  },
  {
   "cell_type": "code",
   "execution_count": 89,
   "metadata": {},
   "outputs": [
    {
     "data": {
      "text/html": [
       "<div>\n",
       "<style scoped>\n",
       "    .dataframe tbody tr th:only-of-type {\n",
       "        vertical-align: middle;\n",
       "    }\n",
       "\n",
       "    .dataframe tbody tr th {\n",
       "        vertical-align: top;\n",
       "    }\n",
       "\n",
       "    .dataframe thead th {\n",
       "        text-align: right;\n",
       "    }\n",
       "</style>\n",
       "<table border=\"1\" class=\"dataframe\">\n",
       "  <thead>\n",
       "    <tr style=\"text-align: right;\">\n",
       "      <th></th>\n",
       "      <th>Id</th>\n",
       "      <th>Answer</th>\n",
       "    </tr>\n",
       "  </thead>\n",
       "  <tbody>\n",
       "    <tr>\n",
       "      <th>0</th>\n",
       "      <td>1</td>\n",
       "      <td>4</td>\n",
       "    </tr>\n",
       "    <tr>\n",
       "      <th>1</th>\n",
       "      <td>2</td>\n",
       "      <td>2</td>\n",
       "    </tr>\n",
       "    <tr>\n",
       "      <th>2</th>\n",
       "      <td>3</td>\n",
       "      <td>3</td>\n",
       "    </tr>\n",
       "    <tr>\n",
       "      <th>3</th>\n",
       "      <td>4</td>\n",
       "      <td>2</td>\n",
       "    </tr>\n",
       "    <tr>\n",
       "      <th>4</th>\n",
       "      <td>5</td>\n",
       "      <td>1</td>\n",
       "    </tr>\n",
       "    <tr>\n",
       "      <th>5</th>\n",
       "      <td>6</td>\n",
       "      <td>5</td>\n",
       "    </tr>\n",
       "    <tr>\n",
       "      <th>6</th>\n",
       "      <td>7</td>\n",
       "      <td>2</td>\n",
       "    </tr>\n",
       "    <tr>\n",
       "      <th>7</th>\n",
       "      <td>8</td>\n",
       "      <td>1</td>\n",
       "    </tr>\n",
       "    <tr>\n",
       "      <th>8</th>\n",
       "      <td>9</td>\n",
       "      <td>4</td>\n",
       "    </tr>\n",
       "    <tr>\n",
       "      <th>9</th>\n",
       "      <td>10</td>\n",
       "      <td>5</td>\n",
       "    </tr>\n",
       "    <tr>\n",
       "      <th>10</th>\n",
       "      <td>11</td>\n",
       "      <td>3</td>\n",
       "    </tr>\n",
       "    <tr>\n",
       "      <th>11</th>\n",
       "      <td>12</td>\n",
       "      <td>1</td>\n",
       "    </tr>\n",
       "    <tr>\n",
       "      <th>12</th>\n",
       "      <td>13</td>\n",
       "      <td>3</td>\n",
       "    </tr>\n",
       "    <tr>\n",
       "      <th>13</th>\n",
       "      <td>14</td>\n",
       "      <td>4</td>\n",
       "    </tr>\n",
       "    <tr>\n",
       "      <th>14</th>\n",
       "      <td>15</td>\n",
       "      <td>5</td>\n",
       "    </tr>\n",
       "    <tr>\n",
       "      <th>15</th>\n",
       "      <td>16</td>\n",
       "      <td>1</td>\n",
       "    </tr>\n",
       "    <tr>\n",
       "      <th>16</th>\n",
       "      <td>17</td>\n",
       "      <td>3</td>\n",
       "    </tr>\n",
       "    <tr>\n",
       "      <th>17</th>\n",
       "      <td>18</td>\n",
       "      <td>3</td>\n",
       "    </tr>\n",
       "    <tr>\n",
       "      <th>18</th>\n",
       "      <td>19</td>\n",
       "      <td>2</td>\n",
       "    </tr>\n",
       "    <tr>\n",
       "      <th>19</th>\n",
       "      <td>20</td>\n",
       "      <td>1</td>\n",
       "    </tr>\n",
       "    <tr>\n",
       "      <th>20</th>\n",
       "      <td>21</td>\n",
       "      <td>4</td>\n",
       "    </tr>\n",
       "    <tr>\n",
       "      <th>21</th>\n",
       "      <td>22</td>\n",
       "      <td>2</td>\n",
       "    </tr>\n",
       "    <tr>\n",
       "      <th>22</th>\n",
       "      <td>23</td>\n",
       "      <td>3</td>\n",
       "    </tr>\n",
       "    <tr>\n",
       "      <th>23</th>\n",
       "      <td>24</td>\n",
       "      <td>1</td>\n",
       "    </tr>\n",
       "    <tr>\n",
       "      <th>24</th>\n",
       "      <td>25</td>\n",
       "      <td>5</td>\n",
       "    </tr>\n",
       "    <tr>\n",
       "      <th>25</th>\n",
       "      <td>26</td>\n",
       "      <td>1</td>\n",
       "    </tr>\n",
       "    <tr>\n",
       "      <th>26</th>\n",
       "      <td>27</td>\n",
       "      <td>4</td>\n",
       "    </tr>\n",
       "    <tr>\n",
       "      <th>27</th>\n",
       "      <td>28</td>\n",
       "      <td>2</td>\n",
       "    </tr>\n",
       "    <tr>\n",
       "      <th>28</th>\n",
       "      <td>29</td>\n",
       "      <td>5</td>\n",
       "    </tr>\n",
       "    <tr>\n",
       "      <th>29</th>\n",
       "      <td>30</td>\n",
       "      <td>2</td>\n",
       "    </tr>\n",
       "    <tr>\n",
       "      <th>30</th>\n",
       "      <td>31</td>\n",
       "      <td>5</td>\n",
       "    </tr>\n",
       "    <tr>\n",
       "      <th>31</th>\n",
       "      <td>32</td>\n",
       "      <td>5</td>\n",
       "    </tr>\n",
       "    <tr>\n",
       "      <th>32</th>\n",
       "      <td>33</td>\n",
       "      <td>3</td>\n",
       "    </tr>\n",
       "    <tr>\n",
       "      <th>33</th>\n",
       "      <td>34</td>\n",
       "      <td>1</td>\n",
       "    </tr>\n",
       "    <tr>\n",
       "      <th>34</th>\n",
       "      <td>35</td>\n",
       "      <td>5</td>\n",
       "    </tr>\n",
       "    <tr>\n",
       "      <th>35</th>\n",
       "      <td>36</td>\n",
       "      <td>4</td>\n",
       "    </tr>\n",
       "  </tbody>\n",
       "</table>\n",
       "</div>"
      ],
      "text/plain": [
       "    Id  Answer\n",
       "0    1       4\n",
       "1    2       2\n",
       "2    3       3\n",
       "3    4       2\n",
       "4    5       1\n",
       "5    6       5\n",
       "6    7       2\n",
       "7    8       1\n",
       "8    9       4\n",
       "9   10       5\n",
       "10  11       3\n",
       "11  12       1\n",
       "12  13       3\n",
       "13  14       4\n",
       "14  15       5\n",
       "15  16       1\n",
       "16  17       3\n",
       "17  18       3\n",
       "18  19       2\n",
       "19  20       1\n",
       "20  21       4\n",
       "21  22       2\n",
       "22  23       3\n",
       "23  24       1\n",
       "24  25       5\n",
       "25  26       1\n",
       "26  27       4\n",
       "27  28       2\n",
       "28  29       5\n",
       "29  30       2\n",
       "30  31       5\n",
       "31  32       5\n",
       "32  33       3\n",
       "33  34       1\n",
       "34  35       5\n",
       "35  36       4"
      ]
     },
     "execution_count": 89,
     "metadata": {},
     "output_type": "execute_result"
    }
   ],
   "source": [
    "pd.DataFrame({'Id':range(1,len(answer_ls)+1), 'Answer':answer_ls}, columns=['Id', 'Answer'])"
   ]
  },
  {
   "cell_type": "code",
   "execution_count": null,
   "metadata": {},
   "outputs": [],
   "source": []
  }
 ],
 "metadata": {
  "kernelspec": {
   "display_name": "Python 3",
   "language": "python",
   "name": "python3"
  },
  "language_info": {
   "codemirror_mode": {
    "name": "ipython",
    "version": 3
   },
   "file_extension": ".py",
   "mimetype": "text/x-python",
   "name": "python",
   "nbconvert_exporter": "python",
   "pygments_lexer": "ipython3",
   "version": "3.7.6"
  },
  "varInspector": {
   "cols": {
    "lenName": 16,
    "lenType": 16,
    "lenVar": 40
   },
   "kernels_config": {
    "python": {
     "delete_cmd_postfix": "",
     "delete_cmd_prefix": "del ",
     "library": "var_list.py",
     "varRefreshCmd": "print(var_dic_list())"
    },
    "r": {
     "delete_cmd_postfix": ") ",
     "delete_cmd_prefix": "rm(",
     "library": "var_list.r",
     "varRefreshCmd": "cat(var_dic_list()) "
    }
   },
   "oldHeight": 251.90381799999997,
   "position": {
    "height": "289.247px",
    "left": "1162.79px",
    "right": "20px",
    "top": "3.95738px",
    "width": "538.494px"
   },
   "types_to_exclude": [
    "module",
    "function",
    "builtin_function_or_method",
    "instance",
    "_Feature"
   ],
   "varInspector_section_display": "block",
   "window_display": false
  }
 },
 "nbformat": 4,
 "nbformat_minor": 4
}
